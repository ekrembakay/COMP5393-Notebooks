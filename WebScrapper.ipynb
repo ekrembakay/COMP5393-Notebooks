{
 "cells": [
  {
   "cell_type": "code",
   "execution_count": 1,
   "id": "b6ca8ef4",
   "metadata": {},
   "outputs": [
    {
     "name": "stdout",
     "output_type": "stream",
     "text": [
      "Requirement already satisfied: beautifulsoup4 in /home/ekrem/anaconda3/lib/python3.9/site-packages (4.11.1)\r\n",
      "Requirement already satisfied: soupsieve>1.2 in /home/ekrem/anaconda3/lib/python3.9/site-packages (from beautifulsoup4) (2.3.1)\r\n"
     ]
    }
   ],
   "source": [
    "!pip install beautifulsoup4"
   ]
  },
  {
   "cell_type": "code",
   "execution_count": 1,
   "id": "3b4f3f6f",
   "metadata": {},
   "outputs": [],
   "source": [
    "import requests\n",
    "from bs4 import BeautifulSoup\n",
    "import numpy as np\n",
    "import pandas as pd"
   ]
  },
  {
   "cell_type": "code",
   "execution_count": null,
   "id": "3be75a96",
   "metadata": {},
   "outputs": [],
   "source": [
    "def get_links(page_number):\n",
    "    URL = \"https://ielts69.com/essay/p/\" + str(page_number)\n",
    "    page = requests.get(URL)\n",
    "    soup = BeautifulSoup(page.content, \"html.parser\")\n",
    "    results = soup.find(class_=\"similar-post-list\")\n",
    "    link_elements = results.find_all(\"a\", href=True)\n",
    "    \n",
    "    links = []\n",
    "    \n",
    "    for link_element in link_elements:\n",
    "        link_url = link_element[\"href\"]\n",
    "        links.append(link_url)\n",
    "    \n",
    "    return links"
   ]
  },
  {
   "cell_type": "code",
   "execution_count": null,
   "id": "3bf282a3",
   "metadata": {},
   "outputs": [],
   "source": [
    "all_links = []\n",
    "for i in range(1,2061):\n",
    "    links = get_links(i)\n",
    "    all_links.append(links)\n",
    "\n",
    "all_links\n"
   ]
  },
  {
   "cell_type": "code",
   "execution_count": null,
   "id": "2f8872e7",
   "metadata": {},
   "outputs": [],
   "source": [
    "list_of_links = np.asarray(all_links).ravel()"
   ]
  },
  {
   "cell_type": "code",
   "execution_count": null,
   "id": "38f67159",
   "metadata": {},
   "outputs": [],
   "source": [
    "df = pd.DataFrame(list_of_links)\n",
    "df.to_csv(\"essay_links.csv\")"
   ]
  },
  {
   "cell_type": "code",
   "execution_count": 3,
   "id": "78e8142d",
   "metadata": {},
   "outputs": [],
   "source": [
    "links = pd.read_csv(\"essay_links.csv\")\n",
    "list_of_links = links['0'].to_numpy()"
   ]
  },
  {
   "cell_type": "code",
   "execution_count": 4,
   "id": "ec7267b9",
   "metadata": {},
   "outputs": [],
   "source": [
    "def get_data(page_url):\n",
    "    new_dict = {}\n",
    "\n",
    "    URL2 = 'https://ielts69.com' + str(page_url)\n",
    "    essay_page = requests.get(URL2)\n",
    "    soup2 = BeautifulSoup(essay_page.content, \"html.parser\")\n",
    "\n",
    "    essay_text = soup2.find(\"div\", id=\"editor\")\n",
    "    #text = results2.find_all()\n",
    "    \n",
    "    if essay_text != None:\n",
    "        for tag in essay_text.select('div.popup'):\n",
    "            tag.decompose()\n",
    "    \n",
    "        delimiter = '#'      \n",
    "\n",
    "        for line_break in essay_text.findAll('br'):      \n",
    "            line_break.replaceWith(delimiter)\n",
    "\n",
    "    paragraph_number = soup2.find(\"i\", id=\"totalParagraphs\")\n",
    "    word_count = soup2.find(\"i\", id=\"totalWords\")\n",
    "    essay_topic = soup2.find(\"h1\")\n",
    "    essay_score = soup2.find(\"div\", id=\"bandTotal\")\n",
    "\n",
    "    ccTotal = soup2.find(\"i\", id=\"ccTotal\")\n",
    "    lrTotal = soup2.find(\"i\", id=\"lrTotal\")\n",
    "    graTotal = soup2.find(\"i\", id=\"graTotal\")\n",
    "    taTotal = soup2.find(\"i\", id=\"taTotal\")\n",
    "\n",
    "    new_dict = {'EssayTopic': essay_topic.text, 'EssayBody': \"No text\" if essay_text == None else essay_text.text, \n",
    "            'ParagraphCount': int(paragraph_number.text), 'WordCount': int(word_count.text), \n",
    "            'EssayScore': float(essay_score.text), 'CC_Score': float(ccTotal.text), \n",
    "            'LR_Score': float(lrTotal.text), 'GRA_Score': float(graTotal.text), 'TA_Score': float(taTotal.text)}\n",
    "    \n",
    "    return new_dict"
   ]
  },
  {
   "cell_type": "code",
   "execution_count": 5,
   "id": "a8b3ed95",
   "metadata": {},
   "outputs": [],
   "source": [
    "Essay_Dataset = pd.DataFrame(columns=['EssayTopic', 'EssayBody', 'ParagraphCount', \n",
    "                                     'WordCount', 'EssayScore', 'CC_Score', 'LR_Score', \n",
    "                                     'GRA_Score', 'TA_Score'])"
   ]
  },
  {
   "cell_type": "code",
   "execution_count": 6,
   "id": "cfebc5ed",
   "metadata": {
    "scrolled": true
   },
   "outputs": [
    {
     "name": "stdout",
     "output_type": "stream",
     "text": [
      "Done!\n"
     ]
    }
   ],
   "source": [
    "complete = 0\n",
    "for index_number, url in enumerate(list_of_links[:4]):\n",
    "    data = get_data(url)\n",
    "    new_row = pd.DataFrame(data, index=[index_number])\n",
    "    Essay_Dataset = pd.concat([Essay_Dataset, new_row])\n",
    "    \n",
    "    if ((index_number % 60) == 0) and (index_number != 0):\n",
    "        complete += 1\n",
    "        print(\"%{} is compl11ete\".format(complete))\n",
    "        \n",
    "print(\"Done!\")"
   ]
  },
  {
   "cell_type": "code",
   "execution_count": 7,
   "id": "44191ec4",
   "metadata": {},
   "outputs": [],
   "source": [
    "Essay_Dataset.to_csv(\"essay_dataset_test.csv\")"
   ]
  },
  {
   "cell_type": "code",
   "execution_count": 8,
   "id": "eb9aa9dd",
   "metadata": {},
   "outputs": [
    {
     "data": {
      "text/html": [
       "<div>\n",
       "<style scoped>\n",
       "    .dataframe tbody tr th:only-of-type {\n",
       "        vertical-align: middle;\n",
       "    }\n",
       "\n",
       "    .dataframe tbody tr th {\n",
       "        vertical-align: top;\n",
       "    }\n",
       "\n",
       "    .dataframe thead th {\n",
       "        text-align: right;\n",
       "    }\n",
       "</style>\n",
       "<table border=\"1\" class=\"dataframe\">\n",
       "  <thead>\n",
       "    <tr style=\"text-align: right;\">\n",
       "      <th></th>\n",
       "      <th>EssayTopic</th>\n",
       "      <th>EssayBody</th>\n",
       "      <th>ParagraphCount</th>\n",
       "      <th>WordCount</th>\n",
       "      <th>EssayScore</th>\n",
       "      <th>CC_Score</th>\n",
       "      <th>LR_Score</th>\n",
       "      <th>GRA_Score</th>\n",
       "      <th>TA_Score</th>\n",
       "    </tr>\n",
       "  </thead>\n",
       "  <tbody>\n",
       "    <tr>\n",
       "      <th>0</th>\n",
       "      <td>Increasing the price of petrol is the best way...</td>\n",
       "      <td>Over the last century, our cities faced unprec...</td>\n",
       "      <td>4</td>\n",
       "      <td>350</td>\n",
       "      <td>6.0</td>\n",
       "      <td>5.5</td>\n",
       "      <td>5.5</td>\n",
       "      <td>6.5</td>\n",
       "      <td>6.5</td>\n",
       "    </tr>\n",
       "    <tr>\n",
       "      <th>1</th>\n",
       "      <td>Fatherhood ought to be emphasized as much as m...</td>\n",
       "      <td>According to some people, the role of a father...</td>\n",
       "      <td>4</td>\n",
       "      <td>419</td>\n",
       "      <td>6.0</td>\n",
       "      <td>5.5</td>\n",
       "      <td>5.5</td>\n",
       "      <td>6.5</td>\n",
       "      <td>7.0</td>\n",
       "    </tr>\n",
       "    <tr>\n",
       "      <th>2</th>\n",
       "      <td>Best way to reduce the number of crime among y...</td>\n",
       "      <td>Thesedays, number of crime commit by the young...</td>\n",
       "      <td>3</td>\n",
       "      <td>197</td>\n",
       "      <td>5.0</td>\n",
       "      <td>5.5</td>\n",
       "      <td>5.0</td>\n",
       "      <td>6.5</td>\n",
       "      <td>5.0</td>\n",
       "    </tr>\n",
       "    <tr>\n",
       "      <th>3</th>\n",
       "      <td>Some people believe that it is good to share a...</td>\n",
       "      <td>Some people believe that sharing details of re...</td>\n",
       "      <td>4</td>\n",
       "      <td>281</td>\n",
       "      <td>6.0</td>\n",
       "      <td>6.5</td>\n",
       "      <td>5.5</td>\n",
       "      <td>6.5</td>\n",
       "      <td>6.0</td>\n",
       "    </tr>\n",
       "  </tbody>\n",
       "</table>\n",
       "</div>"
      ],
      "text/plain": [
       "                                          EssayTopic  \\\n",
       "0  Increasing the price of petrol is the best way...   \n",
       "1  Fatherhood ought to be emphasized as much as m...   \n",
       "2  Best way to reduce the number of crime among y...   \n",
       "3  Some people believe that it is good to share a...   \n",
       "\n",
       "                                           EssayBody ParagraphCount WordCount  \\\n",
       "0  Over the last century, our cities faced unprec...              4       350   \n",
       "1  According to some people, the role of a father...              4       419   \n",
       "2  Thesedays, number of crime commit by the young...              3       197   \n",
       "3  Some people believe that sharing details of re...              4       281   \n",
       "\n",
       "  EssayScore CC_Score LR_Score GRA_Score TA_Score  \n",
       "0        6.0      5.5      5.5       6.5      6.5  \n",
       "1        6.0      5.5      5.5       6.5      7.0  \n",
       "2        5.0      5.5      5.0       6.5      5.0  \n",
       "3        6.0      6.5      5.5       6.5      6.0  "
      ]
     },
     "execution_count": 8,
     "metadata": {},
     "output_type": "execute_result"
    }
   ],
   "source": [
    "Essay_Dataset"
   ]
  },
  {
   "cell_type": "code",
   "execution_count": null,
   "id": "8c4d7b6b",
   "metadata": {},
   "outputs": [],
   "source": []
  }
 ],
 "metadata": {
  "kernelspec": {
   "display_name": "Python 3 (ipykernel)",
   "language": "python",
   "name": "python3"
  },
  "language_info": {
   "codemirror_mode": {
    "name": "ipython",
    "version": 3
   },
   "file_extension": ".py",
   "mimetype": "text/x-python",
   "name": "python",
   "nbconvert_exporter": "python",
   "pygments_lexer": "ipython3",
   "version": "3.8.5"
  }
 },
 "nbformat": 4,
 "nbformat_minor": 5
}
