{
 "cells": [
  {
   "cell_type": "code",
   "execution_count": 1,
   "id": "b6ca8ef4",
   "metadata": {
    "pycharm": {
     "name": "#%%\n"
    }
   },
   "outputs": [
    {
     "name": "stdout",
     "output_type": "stream",
     "text": [
      "Requirement already satisfied: beautifulsoup4 in /home/ekrem/anaconda3/lib/python3.9/site-packages (4.11.1)\r\n",
      "Requirement already satisfied: soupsieve>1.2 in /home/ekrem/anaconda3/lib/python3.9/site-packages (from beautifulsoup4) (2.3.1)\r\n"
     ]
    }
   ],
   "source": [
    "!pip install beautifulsoup4"
   ]
  },
  {
   "cell_type": "code",
   "execution_count": 1,
   "id": "3b4f3f6f",
   "metadata": {
    "pycharm": {
     "name": "#%%\n"
    }
   },
   "outputs": [],
   "source": [
    "import requests\n",
    "from bs4 import BeautifulSoup\n",
    "import numpy as np\n",
    "import pandas as pd"
   ]
  },
  {
   "cell_type": "code",
   "execution_count": 44,
   "id": "3be75a96",
   "metadata": {
    "pycharm": {
     "name": "#%%\n"
    }
   },
   "outputs": [],
   "source": [
    "def get_links():\n",
    "    URL = \"https://writing9.com/ielts-writing-samples/\"\n",
    "    page = requests.get(URL)\n",
    "    soup = BeautifulSoup(page.content, \"html.parser\")\n",
    "    results = soup.find(class_=\"jsx-2609154510 list\")\n",
    "    link_elements = results.find_all(\"a\", href=True)\n",
    "    \n",
    "    links = []\n",
    "    \n",
    "    for link_element in link_elements:\n",
    "        link_url = link_element[\"href\"]\n",
    "        links.append(link_url)\n",
    "    \n",
    "    return links"
   ]
  },
  {
   "cell_type": "code",
   "execution_count": 21,
   "id": "3bf282a3",
   "metadata": {
    "pycharm": {
     "name": "#%%\n"
    }
   },
   "outputs": [
    {
     "data": {
      "text/plain": "['/text/62c98a338ee1ab00180e1df3-countries-around-the-world-will-be-facing-significant-challenges-relating',\n '/text/62c98a128ee1ab00180e1df1-there-have-been-major-advances-in-technology-over-the-recent',\n '/?utm_source=w9&utm_medium=list',\n '/text/62c989aa8ee1ab00180e1dee-tourism-is-encouraged-in-many-countries-does-tourism-bring-more',\n '/text/62c9885b8ee1ab00180e1deb-nowadays-many-families-move-overseas-for-job-opportunities-some-people',\n '/text/62c9853b8ee1ab00180e1de9-some-people-believe-that-teenagers-should-be-required-to-do',\n '/text/62c980948ee1ab00180e1de7-in-some-countries-people-encourage-students-to-find-part-time-jobs',\n '/text/62c980128ee1ab00180e1de5-the-first-man-to-walk-on-the-moon-claimed-it',\n '/text/62c97ea78ee1ab00180e1de3-in-some-countries-people-encourage-students-to-find-part-time-jobs',\n '/text/62c97c9e8ee1ab00180e1de1-in-some-cultures-children-are-often-told-that-they-can',\n '/text/62c97be88ee1ab00180e1ddf-mobile-phones-are-considered-essential-by-most-people-nowadays-discuss',\n '/?utm_source=w9&utm_medium=list',\n '/text/62c97be38ee1ab00180e1ddd-some-organisations-believe-that-their-employees-should-dress-smartly-others',\n '/text/62c97b2f8ee1ab00180e1ddb-some-people-believe-that-it-is-best-to-do-the',\n '/text/62c971a98ee1ab00180e1dd7-in-many-countries-the-amount-of-crime-is-increase-what-do',\n '/text/62c96f728ee1ab00180e1dd5-some-people-believe-arts-subjects-such-as-literature-and-music',\n '/text/62c96dfd8ee1ab00180e1dd3-there-have-been-major-advances-in-technology-over-recent-decades',\n '/text/62c96a418ee1ab00180e1dd0-in-the-future-all-cars-buses-and-trucks-will-be',\n '/text/62c969748ee1ab00180e1dce-art-is-considered-an-essential-part-of-all-cultures-throughout',\n '/text/62c967c58ee1ab00180e1dcc-some-people-think-that-having-a-set-retirement-age-eg',\n '/text/62c9671d8ee1ab00180e1dc8-societies-led-by-males-have-always-been-prone-to-violence',\n '/?utm_source=w9&utm_medium=list',\n '/text/62c965fb8ee1ab00180e1dc6-some-people-say-now-there-is-less-communication-between-family',\n '/text/62c9657c8ee1ab00180e1dc2-some-people-think-that-libraries-are-a-waste-of-resources',\n '/text/62c964468ee1ab00180e1dc0-many-people-keep-dogs-and-cats-as-companions-discuss-the-advantages',\n '/text/62c963ea8ee1ab00180e1dbe-stress-caused-by-work-is-becoming-a-major-problem-worldwide',\n '/text/62c9635a8ee1ab00180e1dba-some-people-think-that-libraries-are-a-waste-of-resources',\n '/text/62c962c28ee1ab00180e1db6-many-people-keep-dogs-and-cats-as-companions-discuss-the-advantages',\n '/text/62c961c38ee1ab00180e1db4-some-people-believe-that-entering-the-workplace-after-school-is',\n '/text/62c961198ee1ab00180e1db1-many-people-keep-dogs-and-cats-as-companions-discuss-the-advantages',\n '/text/62c960e78ee1ab00180e1daf-some-employers-think-that-formal-academic-qualifications-are-more-important',\n '/?utm_source=w9&utm_medium=list',\n '/text/62c960a18ee1ab00180e1dad-some-employers-think-that-formal-academic-qualifications-are-more-important',\n '/text/62c95f018ee1ab00180e1da8-some-employers-think-that-formal-academic-qualifications-are-more-important',\n '/text/62c95dd18ee1ab00180e1da4-some-people-prefer-to-live-with-a-roommateothers-prefer-to',\n '/text/62c95d6f8ee1ab00180e1da2-it-is-important-for-children-to-learn-the-difference-between',\n '/text/62c95c7b8ee1ab00180e1da0-crime-and-punishment-some-people-believe-that-there-should-be',\n '/text/62c95c0e8ee1ab00180e1d9e-men-and-women-employed-in-full-samplestime-jobs-should-share',\n '/text/62c958008ee1ab00180e1d99-some-people-say-that-hosting-an-international-event-in-a',\n '/text/62c958008ee1ab00180e1d98-universities-are-becoming-increasingly-expensive-to-operate-in-some-countries',\n '/text/62c956e78ee1ab00180e1d96-we-have-been-living-in-the-nuclear-age-now-for',\n '/?utm_source=w9&utm_medium=list',\n '/text/62c953db8ee1ab00180e1d94-some-people-say-that-we-should-not-encourage-sports-games',\n '/text/62c953d78ee1ab00180e1d92-the-development-of-tourism-contributed-to-english-becoming-the-most',\n '/text/62c9539d8ee1ab00180e1d90-governments-in-many-countries-are-replacing-old-buildings-such-as',\n '/text/62c9537a8ee1ab00180e1d8e-the-charts-below-show-the-percentage-of-water-used-for',\n '/text/62c953128ee1ab00180e1d8a-some-people-say-that-art-subjects-such-as-music-drama',\n '/text/62c9517f8ee1ab00180e1d88-nowadays-celebrities-earn-more-money-than-politicians-what-are-the',\n '/text/62c94e8e8ee1ab00180e1d84-the-growth-of-online-shopping-will-one-day-lead-to',\n '/text/62c94bc78ee1ab00180e1d82-some-people-say-that-it-is-a-waste-of-time',\n '/text/62c943b48ee1ab00180e1d7b-obesity-is-a-ticking-time-bomb-which-will-cause-healthcare',\n '/?utm_source=w9&utm_medium=list',\n '/text/62c940c68ee1ab00180e1d79-some-people-believe-that-it-is-best-to-accept-a',\n '/text/62c9403d8ee1ab00180e1d77-many-people-today-are-worried-about-young-children-using-video',\n '/text/62c93fd38ee1ab00180e1d75-some-people-believe-that-rich-countries-should-provide-poor-countries',\n '/text/62c933fe8ee1ab00180e1d64-any-country-should-be-able-to-sell-goods-to-other',\n '/text/62c92ffa8ee1ab00180e1d5a-some-people-like-to-try-new-things-for-example-places',\n '/text/62c92f468ee1ab00180e1d58-many-working-people-get-little-or-no-exercise-either-during',\n '/text/62c92ee78ee1ab00180e1d56-people-should-spend-less-money-on-unnecessary-things-and-save',\n '/text/62c92dd58ee1ab00180e1d54-the-gap-between-the-rich-and-poor-is-widening-in',\n '/text/62c92d838ee1ab00180e1d51-many-working-people-get-little-or-no-exercise-either-during',\n '/?utm_source=w9&utm_medium=list',\n '/text/62c92be28ee1ab00180e1d4f-mobile-phones-are-considered-essential-by-most-people-nowadays-discuss',\n '/text/62c928418ee1ab00180e1d48-some-parents-think-it-is-good-to-have-mobile-phones',\n '/text/62c924568ee1ab00180e1d44-all-students-should-study-art-and-music-in-school-to',\n '/text/62c9201d8ee1ab00180e1d3f-some-people-think-that-all-university-students-should-study-whatever',\n '/text/62c91d308ee1ab00180e1d3c-some-people-believe-that-improve-public-health-should-increase-the',\n '/text/62c919ad8ee1ab00180e1d3a-popular-events-like-the-football-world-cup-and-other-international',\n '/text/62c915768ee1ab00180e1d38-some-people-view-teenage-conflict-with-their-parents-as-a',\n '/text/62c90c1b8ee1ab00180e1d36-should-students-allowed-to-speak-in-class-or-not-explain',\n '/text/62c90b4f8ee1ab00180e1d34-some-people-believe-that-there-should-be-fixed-punishments-for',\n '/?utm_source=w9&utm_medium=list',\n '/text/62c8fd378ee1ab00180e1d30-in-recent-years-some-countries-have-experienced-very-rapid-economic',\n '/text/62c8fc398ee1ab00180e1d2e-luck-is-the-most-crucial-in-ones-success-do-you',\n '/text/62c8f6368ee1ab00180e1d24-ordinary-people-try-to-copy-famous-personalities-by-seeing-them',\n '/text/62c8ee208ee1ab00180e1d22-popular-events-like-football-world-cup-and-other-international-sporting',\n '/text/62c8e7138ee1ab00180e1d20-a-knowledge-of-maths-is-not-important-for-most-jobs',\n '/text/62c8e16d8ee1ab00180e1d1e-some-people-argue-that-space-exploration-has-had-more-to',\n '/text/62c8dcab8ee1ab00180e1d1c-some-people-think-that-it-is-more-beneficial-to',\n '/text/62c8c7cd8ee1ab00180e1d0d-these-days-too-many-people-maintain-their-health-by-relying',\n '/text/62c8bad08ee1ab00180e1d08-in-some-countries-fast-food-restaurants-and-companies-give-money',\n '/?utm_source=w9&utm_medium=list',\n '/text/62c8b59d8ee1ab00180e1d06-scientific-developments-even-farming-always-bring-major-benefits-to-what',\n '/text/62c8af328ee1ab00180e1d04-modern-forms-of-communication-such-as-email-and-messaging-have',\n '/text/62c8ae0e8ee1ab00180e1d02-modern-forms-of-communication-such-as-email-and-messaging-have',\n '/text/62c8a3228ee1ab00180e1d00-some-people-think-that-parents-should-teach-their-children',\n '/text/62c898fb8ee1ab00180e1cfe-what-are-the-advantages-and-disadvantages-of-scientific-research',\n '/text/62c896c48ee1ab00180e1cfc-some-people-say-history-is-one-of-the-most-important',\n '/text/62c894948ee1ab00180e1cfa-in-the-futurenobody-will-buy-printed-newspapers-or-books-because',\n '/text/62c88fb48ee1ab00180e1cf6-nowadays-a-growing-number-of-people-with-health-problems-are',\n '/text/62c88a5d8ee1ab00180e1cf4-these-days-many-people-have-their-own-computer-and-telephone',\n '/?utm_source=w9&utm_medium=list',\n '/text/62c8855b8ee1ab00180e1cf1-some-people-think-that-television-has-made-peoples-life-more',\n '/text/62c8839c8ee1ab00180e1cef-some-think-that-young-people-should-be-free-to-choose',\n '/text/62c882da8ee1ab00180e1ced-some-think-that-young-people-should-be-free-to-choose',\n '/text/62c87eb88ee1ab00180e1ceb-today-it-is-a-common-practice-for-many-business-meeting',\n '/text/62c87e9f8ee1ab00180e1ce9-some-people-say-that-the-only-reason-for-learning-a',\n '/text/62c87b638ee1ab00180e1ce6-more-and-more-people-are-relying-on-their-private-cars',\n '/text/62c8796c8ee1ab00180e1ce4-some-people-prefer-to-spend-their-lives-doing-the-same',\n '/text/62c8762a8ee1ab00180e1ce1-some-people-prefer-to-spend-their-lives-doing-the-same',\n '/text/62c8754a8ee1ab00180e1cde-some-people-think-that-it-is-good-for-a-countrys',\n '/?utm_source=w9&utm_medium=list',\n '/text/62c870c18ee1ab00180e1cdb-it-will-be-better-for-society-and-individuals-if-driverless',\n '/text/62c86f208ee1ab00180e1cd7-todays-young-generation-is-facing-many-problems-in-school-and',\n '/text/62c86ad98ee1ab00180e1cd0-some-people-think-that-children-can-learn-about-history-by',\n '/text/62c865c28ee1ab00180e1ccd-it-is-important-for-people-to-take-risks-both-in',\n '/text/62c865888ee1ab00180e1ccb-living-in-a-country-where-you-have-to-speak-a',\n '/text/62c860878ee1ab00180e1cc5-although-it-is-generally-illegal-physical-punishment-continues-in-many',\n '/text/62c8603d8ee1ab00180e1cc3-although-it-is-generally-illegal-physical-punishment-continues-in-many',\n '/text/62c85f178ee1ab00180e1cc1-many-people-believe-that-funding-space-exploration-is-important-to',\n '/text/62c85ead8ee1ab00180e1cbf-many-historical-buildings-are-being-destroyed-or-damaged-what-are']"
     },
     "execution_count": 21,
     "metadata": {},
     "output_type": "execute_result"
    }
   ],
   "source": [
    "all_links = get_links()\n",
    "all_links\n"
   ]
  },
  {
   "cell_type": "code",
   "execution_count": 25,
   "id": "2f8872e7",
   "metadata": {
    "pycharm": {
     "name": "#%%\n"
    }
   },
   "outputs": [
    {
     "data": {
      "text/plain": "array(['/text/62c98a338ee1ab00180e1df3-countries-around-the-world-will-be-facing-significant-challenges-relating',\n       '/text/62c98a128ee1ab00180e1df1-there-have-been-major-advances-in-technology-over-the-recent',\n       '/text/62c989aa8ee1ab00180e1dee-tourism-is-encouraged-in-many-countries-does-tourism-bring-more',\n       '/text/62c9885b8ee1ab00180e1deb-nowadays-many-families-move-overseas-for-job-opportunities-some-people',\n       '/text/62c9853b8ee1ab00180e1de9-some-people-believe-that-teenagers-should-be-required-to-do',\n       '/text/62c980948ee1ab00180e1de7-in-some-countries-people-encourage-students-to-find-part-time-jobs',\n       '/text/62c980128ee1ab00180e1de5-the-first-man-to-walk-on-the-moon-claimed-it',\n       '/text/62c97ea78ee1ab00180e1de3-in-some-countries-people-encourage-students-to-find-part-time-jobs',\n       '/text/62c97c9e8ee1ab00180e1de1-in-some-cultures-children-are-often-told-that-they-can',\n       '/text/62c97be88ee1ab00180e1ddf-mobile-phones-are-considered-essential-by-most-people-nowadays-discuss',\n       '/text/62c97be38ee1ab00180e1ddd-some-organisations-believe-that-their-employees-should-dress-smartly-others',\n       '/text/62c97b2f8ee1ab00180e1ddb-some-people-believe-that-it-is-best-to-do-the',\n       '/text/62c971a98ee1ab00180e1dd7-in-many-countries-the-amount-of-crime-is-increase-what-do',\n       '/text/62c96f728ee1ab00180e1dd5-some-people-believe-arts-subjects-such-as-literature-and-music',\n       '/text/62c96dfd8ee1ab00180e1dd3-there-have-been-major-advances-in-technology-over-recent-decades',\n       '/text/62c96a418ee1ab00180e1dd0-in-the-future-all-cars-buses-and-trucks-will-be',\n       '/text/62c969748ee1ab00180e1dce-art-is-considered-an-essential-part-of-all-cultures-throughout',\n       '/text/62c967c58ee1ab00180e1dcc-some-people-think-that-having-a-set-retirement-age-eg',\n       '/text/62c9671d8ee1ab00180e1dc8-societies-led-by-males-have-always-been-prone-to-violence',\n       '/text/62c965fb8ee1ab00180e1dc6-some-people-say-now-there-is-less-communication-between-family',\n       '/text/62c9657c8ee1ab00180e1dc2-some-people-think-that-libraries-are-a-waste-of-resources',\n       '/text/62c964468ee1ab00180e1dc0-many-people-keep-dogs-and-cats-as-companions-discuss-the-advantages',\n       '/text/62c963ea8ee1ab00180e1dbe-stress-caused-by-work-is-becoming-a-major-problem-worldwide',\n       '/text/62c9635a8ee1ab00180e1dba-some-people-think-that-libraries-are-a-waste-of-resources',\n       '/text/62c962c28ee1ab00180e1db6-many-people-keep-dogs-and-cats-as-companions-discuss-the-advantages',\n       '/text/62c961c38ee1ab00180e1db4-some-people-believe-that-entering-the-workplace-after-school-is',\n       '/text/62c961198ee1ab00180e1db1-many-people-keep-dogs-and-cats-as-companions-discuss-the-advantages',\n       '/text/62c960e78ee1ab00180e1daf-some-employers-think-that-formal-academic-qualifications-are-more-important',\n       '/text/62c960a18ee1ab00180e1dad-some-employers-think-that-formal-academic-qualifications-are-more-important',\n       '/text/62c95f018ee1ab00180e1da8-some-employers-think-that-formal-academic-qualifications-are-more-important',\n       '/text/62c95dd18ee1ab00180e1da4-some-people-prefer-to-live-with-a-roommateothers-prefer-to',\n       '/text/62c95d6f8ee1ab00180e1da2-it-is-important-for-children-to-learn-the-difference-between',\n       '/text/62c95c7b8ee1ab00180e1da0-crime-and-punishment-some-people-believe-that-there-should-be',\n       '/text/62c95c0e8ee1ab00180e1d9e-men-and-women-employed-in-full-samplestime-jobs-should-share',\n       '/text/62c958008ee1ab00180e1d99-some-people-say-that-hosting-an-international-event-in-a',\n       '/text/62c958008ee1ab00180e1d98-universities-are-becoming-increasingly-expensive-to-operate-in-some-countries',\n       '/text/62c956e78ee1ab00180e1d96-we-have-been-living-in-the-nuclear-age-now-for',\n       '/text/62c953db8ee1ab00180e1d94-some-people-say-that-we-should-not-encourage-sports-games',\n       '/text/62c953d78ee1ab00180e1d92-the-development-of-tourism-contributed-to-english-becoming-the-most',\n       '/text/62c9539d8ee1ab00180e1d90-governments-in-many-countries-are-replacing-old-buildings-such-as',\n       '/text/62c9537a8ee1ab00180e1d8e-the-charts-below-show-the-percentage-of-water-used-for',\n       '/text/62c953128ee1ab00180e1d8a-some-people-say-that-art-subjects-such-as-music-drama',\n       '/text/62c9517f8ee1ab00180e1d88-nowadays-celebrities-earn-more-money-than-politicians-what-are-the',\n       '/text/62c94e8e8ee1ab00180e1d84-the-growth-of-online-shopping-will-one-day-lead-to',\n       '/text/62c94bc78ee1ab00180e1d82-some-people-say-that-it-is-a-waste-of-time',\n       '/text/62c943b48ee1ab00180e1d7b-obesity-is-a-ticking-time-bomb-which-will-cause-healthcare',\n       '/text/62c940c68ee1ab00180e1d79-some-people-believe-that-it-is-best-to-accept-a',\n       '/text/62c9403d8ee1ab00180e1d77-many-people-today-are-worried-about-young-children-using-video',\n       '/text/62c93fd38ee1ab00180e1d75-some-people-believe-that-rich-countries-should-provide-poor-countries',\n       '/text/62c933fe8ee1ab00180e1d64-any-country-should-be-able-to-sell-goods-to-other',\n       '/text/62c92ffa8ee1ab00180e1d5a-some-people-like-to-try-new-things-for-example-places',\n       '/text/62c92f468ee1ab00180e1d58-many-working-people-get-little-or-no-exercise-either-during',\n       '/text/62c92ee78ee1ab00180e1d56-people-should-spend-less-money-on-unnecessary-things-and-save',\n       '/text/62c92dd58ee1ab00180e1d54-the-gap-between-the-rich-and-poor-is-widening-in',\n       '/text/62c92d838ee1ab00180e1d51-many-working-people-get-little-or-no-exercise-either-during',\n       '/text/62c92be28ee1ab00180e1d4f-mobile-phones-are-considered-essential-by-most-people-nowadays-discuss',\n       '/text/62c928418ee1ab00180e1d48-some-parents-think-it-is-good-to-have-mobile-phones',\n       '/text/62c924568ee1ab00180e1d44-all-students-should-study-art-and-music-in-school-to',\n       '/text/62c9201d8ee1ab00180e1d3f-some-people-think-that-all-university-students-should-study-whatever',\n       '/text/62c91d308ee1ab00180e1d3c-some-people-believe-that-improve-public-health-should-increase-the',\n       '/text/62c919ad8ee1ab00180e1d3a-popular-events-like-the-football-world-cup-and-other-international',\n       '/text/62c915768ee1ab00180e1d38-some-people-view-teenage-conflict-with-their-parents-as-a',\n       '/text/62c90c1b8ee1ab00180e1d36-should-students-allowed-to-speak-in-class-or-not-explain',\n       '/text/62c90b4f8ee1ab00180e1d34-some-people-believe-that-there-should-be-fixed-punishments-for',\n       '/text/62c8fd378ee1ab00180e1d30-in-recent-years-some-countries-have-experienced-very-rapid-economic',\n       '/text/62c8fc398ee1ab00180e1d2e-luck-is-the-most-crucial-in-ones-success-do-you',\n       '/text/62c8f6368ee1ab00180e1d24-ordinary-people-try-to-copy-famous-personalities-by-seeing-them',\n       '/text/62c8ee208ee1ab00180e1d22-popular-events-like-football-world-cup-and-other-international-sporting',\n       '/text/62c8e7138ee1ab00180e1d20-a-knowledge-of-maths-is-not-important-for-most-jobs',\n       '/text/62c8e16d8ee1ab00180e1d1e-some-people-argue-that-space-exploration-has-had-more-to',\n       '/text/62c8dcab8ee1ab00180e1d1c-some-people-think-that-it-is-more-beneficial-to',\n       '/text/62c8c7cd8ee1ab00180e1d0d-these-days-too-many-people-maintain-their-health-by-relying',\n       '/text/62c8bad08ee1ab00180e1d08-in-some-countries-fast-food-restaurants-and-companies-give-money',\n       '/text/62c8b59d8ee1ab00180e1d06-scientific-developments-even-farming-always-bring-major-benefits-to-what',\n       '/text/62c8af328ee1ab00180e1d04-modern-forms-of-communication-such-as-email-and-messaging-have',\n       '/text/62c8ae0e8ee1ab00180e1d02-modern-forms-of-communication-such-as-email-and-messaging-have',\n       '/text/62c8a3228ee1ab00180e1d00-some-people-think-that-parents-should-teach-their-children',\n       '/text/62c898fb8ee1ab00180e1cfe-what-are-the-advantages-and-disadvantages-of-scientific-research',\n       '/text/62c896c48ee1ab00180e1cfc-some-people-say-history-is-one-of-the-most-important',\n       '/text/62c894948ee1ab00180e1cfa-in-the-futurenobody-will-buy-printed-newspapers-or-books-because',\n       '/text/62c88fb48ee1ab00180e1cf6-nowadays-a-growing-number-of-people-with-health-problems-are',\n       '/text/62c88a5d8ee1ab00180e1cf4-these-days-many-people-have-their-own-computer-and-telephone',\n       '/text/62c8855b8ee1ab00180e1cf1-some-people-think-that-television-has-made-peoples-life-more',\n       '/text/62c8839c8ee1ab00180e1cef-some-think-that-young-people-should-be-free-to-choose',\n       '/text/62c882da8ee1ab00180e1ced-some-think-that-young-people-should-be-free-to-choose',\n       '/text/62c87eb88ee1ab00180e1ceb-today-it-is-a-common-practice-for-many-business-meeting',\n       '/text/62c87e9f8ee1ab00180e1ce9-some-people-say-that-the-only-reason-for-learning-a',\n       '/text/62c87b638ee1ab00180e1ce6-more-and-more-people-are-relying-on-their-private-cars',\n       '/text/62c8796c8ee1ab00180e1ce4-some-people-prefer-to-spend-their-lives-doing-the-same',\n       '/text/62c8762a8ee1ab00180e1ce1-some-people-prefer-to-spend-their-lives-doing-the-same',\n       '/text/62c8754a8ee1ab00180e1cde-some-people-think-that-it-is-good-for-a-countrys',\n       '/text/62c870c18ee1ab00180e1cdb-it-will-be-better-for-society-and-individuals-if-driverless',\n       '/text/62c86f208ee1ab00180e1cd7-todays-young-generation-is-facing-many-problems-in-school-and',\n       '/text/62c86ad98ee1ab00180e1cd0-some-people-think-that-children-can-learn-about-history-by',\n       '/text/62c865c28ee1ab00180e1ccd-it-is-important-for-people-to-take-risks-both-in',\n       '/text/62c865888ee1ab00180e1ccb-living-in-a-country-where-you-have-to-speak-a',\n       '/text/62c860878ee1ab00180e1cc5-although-it-is-generally-illegal-physical-punishment-continues-in-many',\n       '/text/62c8603d8ee1ab00180e1cc3-although-it-is-generally-illegal-physical-punishment-continues-in-many',\n       '/text/62c85f178ee1ab00180e1cc1-many-people-believe-that-funding-space-exploration-is-important-to',\n       '/text/62c85ead8ee1ab00180e1cbf-many-historical-buildings-are-being-destroyed-or-damaged-what-are'],\n      dtype='<U108')"
     },
     "execution_count": 25,
     "metadata": {},
     "output_type": "execute_result"
    }
   ],
   "source": [
    "links_array = np.asarray(all_links).ravel()\n",
    "links_array = np.array([links_array[i] for i, si in enumerate(links_array) if si.startswith('/text/')])\n",
    "links_array"
   ]
  },
  {
   "cell_type": "code",
   "execution_count": 82,
   "id": "ec7267b9",
   "metadata": {
    "pycharm": {
     "name": "#%%\n"
    }
   },
   "outputs": [],
   "source": [
    "def get_data(page_url):\n",
    "    new_dict = {}\n",
    "\n",
    "    URL2 = 'https://writing9.com' + str(page_url)\n",
    "    essay_page = requests.get(URL2)\n",
    "    soup2 = BeautifulSoup(essay_page.content, \"html.parser\")\n",
    "\n",
    "    essay_text = soup2.find(class_=\"jsx-319668748 content-editable undefined\")\n",
    "    #text = results2.find_all()\n",
    "    \n",
    "    if essay_text != None:\n",
    "        for tag in essay_text.select('div.hover'):\n",
    "            tag.decompose()\n",
    "    \n",
    "        delimiter = '\\n'\n",
    "\n",
    "        for line_break in essay_text.findAll('br'):      \n",
    "            line_break.replaceWith(delimiter)\n",
    "\n",
    "    #paragraph_number = soup2.find(\"i\", id=\"totalParagraphs\")\n",
    "    #word_count = soup2.find(\"i\", id=\"totalWords\")\n",
    "    essay_topic = soup2.find(class_=\"jsx-3594441866 h4\")\n",
    "    essay_score = soup2.find(class_=\"jsx-3521695127 h1\")\n",
    "\n",
    "    #ccTotal = soup2.find(\"i\", id=\"ccTotal\")\n",
    "    #lrTotal = soup2.find(\"i\", id=\"lrTotal\")\n",
    "    #graTotal = soup2.find(\"i\", id=\"graTotal\")\n",
    "    #taTotal = soup2.find(\"i\", id=\"taTotal\")\n",
    "\n",
    "    new_dict = {'EssayTopic': essay_topic.text, 'EssayBody': \"No text\" if essay_text == None else essay_text.text,\n",
    "            'EssayScore': \"No text\" if essay_score == None else essay_score.text}\n",
    "    \n",
    "    return new_dict"
   ]
  },
  {
   "cell_type": "markdown",
   "source": [],
   "metadata": {
    "collapsed": false,
    "pycharm": {
     "name": "#%% md\n"
    }
   }
  },
  {
   "cell_type": "code",
   "execution_count": 87,
   "id": "a8b3ed95",
   "metadata": {
    "pycharm": {
     "name": "#%%\n"
    }
   },
   "outputs": [],
   "source": [
    "Essay_Dataset = pd.DataFrame(columns=['EssayTopic', 'EssayBody', 'EssayScore'])"
   ]
  },
  {
   "cell_type": "code",
   "execution_count": 88,
   "id": "cfebc5ed",
   "metadata": {
    "scrolled": true,
    "pycharm": {
     "name": "#%%\n"
    }
   },
   "outputs": [
    {
     "name": "stdout",
     "output_type": "stream",
     "text": [
      "%1 is complete\n",
      "%2 is complete\n",
      "%3 is complete\n",
      "%4 is complete\n",
      "%5 is complete\n",
      "%6 is complete\n",
      "%7 is complete\n",
      "%8 is complete\n",
      "%9 is complete\n",
      "%10 is complete\n",
      "%11 is complete\n",
      "%12 is complete\n",
      "%13 is complete\n",
      "%14 is complete\n",
      "%15 is complete\n",
      "%16 is complete\n",
      "%17 is complete\n",
      "%18 is complete\n",
      "%19 is complete\n",
      "%20 is complete\n",
      "%21 is complete\n",
      "%22 is complete\n",
      "%23 is complete\n",
      "%24 is complete\n",
      "%25 is complete\n",
      "%26 is complete\n",
      "%27 is complete\n",
      "%28 is complete\n",
      "%29 is complete\n",
      "%30 is complete\n",
      "%31 is complete\n",
      "%32 is complete\n",
      "%33 is complete\n",
      "%34 is complete\n",
      "%35 is complete\n",
      "%36 is complete\n",
      "%37 is complete\n",
      "%38 is complete\n",
      "%39 is complete\n",
      "%40 is complete\n",
      "%41 is complete\n",
      "%42 is complete\n",
      "%43 is complete\n",
      "%44 is complete\n",
      "%45 is complete\n",
      "%46 is complete\n",
      "%47 is complete\n",
      "%48 is complete\n",
      "%49 is complete\n",
      "%50 is complete\n",
      "%51 is complete\n",
      "%52 is complete\n",
      "%53 is complete\n",
      "%54 is complete\n",
      "%55 is complete\n",
      "%56 is complete\n",
      "%57 is complete\n",
      "%58 is complete\n",
      "%59 is complete\n",
      "%60 is complete\n",
      "%61 is complete\n",
      "%62 is complete\n",
      "%63 is complete\n",
      "%64 is complete\n",
      "%65 is complete\n",
      "%66 is complete\n",
      "%67 is complete\n",
      "%68 is complete\n",
      "%69 is complete\n",
      "%70 is complete\n",
      "%71 is complete\n",
      "%72 is complete\n",
      "%73 is complete\n",
      "%74 is complete\n",
      "%75 is complete\n",
      "%76 is complete\n",
      "%77 is complete\n",
      "%78 is complete\n",
      "%79 is complete\n",
      "%80 is complete\n",
      "%81 is complete\n",
      "%82 is complete\n",
      "%83 is complete\n",
      "%84 is complete\n",
      "%85 is complete\n",
      "%86 is complete\n",
      "%87 is complete\n",
      "%88 is complete\n",
      "%89 is complete\n",
      "%90 is complete\n",
      "%91 is complete\n",
      "%92 is complete\n",
      "%93 is complete\n",
      "%94 is complete\n",
      "%95 is complete\n",
      "%96 is complete\n",
      "%97 is complete\n",
      "%98 is complete\n",
      "%99 is complete\n",
      "Done!\n"
     ]
    }
   ],
   "source": [
    "complete = 0\n",
    "mod = int(len(links_array)/100)\n",
    "for index_number, url in enumerate(links_array):\n",
    "    data = get_data(url)\n",
    "    new_row = pd.DataFrame(data, index=[index_number])\n",
    "    Essay_Dataset = pd.concat([Essay_Dataset, new_row])\n",
    "    \n",
    "    if ((index_number % mod) == 0) and (index_number != 0):\n",
    "        complete += 1\n",
    "        print(\"%{} is complete\".format(complete))\n",
    "        \n",
    "print(\"Done!\")"
   ]
  },
  {
   "cell_type": "code",
   "execution_count": 90,
   "id": "44191ec4",
   "metadata": {
    "pycharm": {
     "name": "#%%\n"
    }
   },
   "outputs": [],
   "source": [
    "Essay_Dataset.to_csv(\"essay_dataset_new.csv\")"
   ]
  },
  {
   "cell_type": "code",
   "execution_count": 89,
   "id": "eb9aa9dd",
   "metadata": {
    "pycharm": {
     "name": "#%%\n"
    }
   },
   "outputs": [
    {
     "data": {
      "text/plain": "                                           EssayTopic  \\\n0   Countries around the world will be facing sign...   \n1   There have been major advances in technology o...   \n2   Tourism is encouraged in many countries. Does ...   \n3   Nowadays, many families move overseas for job ...   \n4   Some people believe that teenagers should be r...   \n..                                                ...   \n95  Living in a country where you have to speak a ...   \n96  Although it is generally illegal, physical pun...   \n97  Although it is generally illegal, physical pun...   \n98  Many people believe that funding space explora...   \n99  Many historical buildings are being destroyed ...   \n\n                                            EssayBody EssayScore  \n0   In the modern era of globalization, numerous c...       7.00  \n1   There has been a noticeable change in People’s...       9.00  \n2   Many countries around the world enjoy and enco...       8.50  \n3   It is undeniable that many households are migr...       8.50  \n4   It is believed by some locals that voluntary w...       5.00  \n..                                                ...        ...  \n95  As we all know, living in a foreign country an...       8.00  \n96  Many people argue that corporal punishment\\r\\n...        <40  \n97  Many people argue that corporal punishment can...       4.00  \n98  With the rise in global warming, life on earth...       6.50  \n99  In the past, cultures had a variety of histori...       6.50  \n\n[100 rows x 3 columns]",
      "text/html": "<div>\n<style scoped>\n    .dataframe tbody tr th:only-of-type {\n        vertical-align: middle;\n    }\n\n    .dataframe tbody tr th {\n        vertical-align: top;\n    }\n\n    .dataframe thead th {\n        text-align: right;\n    }\n</style>\n<table border=\"1\" class=\"dataframe\">\n  <thead>\n    <tr style=\"text-align: right;\">\n      <th></th>\n      <th>EssayTopic</th>\n      <th>EssayBody</th>\n      <th>EssayScore</th>\n    </tr>\n  </thead>\n  <tbody>\n    <tr>\n      <th>0</th>\n      <td>Countries around the world will be facing sign...</td>\n      <td>In the modern era of globalization, numerous c...</td>\n      <td>7.00</td>\n    </tr>\n    <tr>\n      <th>1</th>\n      <td>There have been major advances in technology o...</td>\n      <td>There has been a noticeable change in People’s...</td>\n      <td>9.00</td>\n    </tr>\n    <tr>\n      <th>2</th>\n      <td>Tourism is encouraged in many countries. Does ...</td>\n      <td>Many countries around the world enjoy and enco...</td>\n      <td>8.50</td>\n    </tr>\n    <tr>\n      <th>3</th>\n      <td>Nowadays, many families move overseas for job ...</td>\n      <td>It is undeniable that many households are migr...</td>\n      <td>8.50</td>\n    </tr>\n    <tr>\n      <th>4</th>\n      <td>Some people believe that teenagers should be r...</td>\n      <td>It is believed by some locals that voluntary w...</td>\n      <td>5.00</td>\n    </tr>\n    <tr>\n      <th>...</th>\n      <td>...</td>\n      <td>...</td>\n      <td>...</td>\n    </tr>\n    <tr>\n      <th>95</th>\n      <td>Living in a country where you have to speak a ...</td>\n      <td>As we all know, living in a foreign country an...</td>\n      <td>8.00</td>\n    </tr>\n    <tr>\n      <th>96</th>\n      <td>Although it is generally illegal, physical pun...</td>\n      <td>Many people argue that corporal punishment\\r\\n...</td>\n      <td>&lt;40</td>\n    </tr>\n    <tr>\n      <th>97</th>\n      <td>Although it is generally illegal, physical pun...</td>\n      <td>Many people argue that corporal punishment can...</td>\n      <td>4.00</td>\n    </tr>\n    <tr>\n      <th>98</th>\n      <td>Many people believe that funding space explora...</td>\n      <td>With the rise in global warming, life on earth...</td>\n      <td>6.50</td>\n    </tr>\n    <tr>\n      <th>99</th>\n      <td>Many historical buildings are being destroyed ...</td>\n      <td>In the past, cultures had a variety of histori...</td>\n      <td>6.50</td>\n    </tr>\n  </tbody>\n</table>\n<p>100 rows × 3 columns</p>\n</div>"
     },
     "execution_count": 89,
     "metadata": {},
     "output_type": "execute_result"
    }
   ],
   "source": [
    "Essay_Dataset"
   ]
  },
  {
   "cell_type": "code",
   "execution_count": null,
   "id": "4843bc0f",
   "metadata": {
    "pycharm": {
     "name": "#%%\n"
    }
   },
   "outputs": [],
   "source": []
  }
 ],
 "metadata": {
  "kernelspec": {
   "display_name": "Python 3 (ipykernel)",
   "language": "python",
   "name": "python3"
  },
  "language_info": {
   "codemirror_mode": {
    "name": "ipython",
    "version": 3
   },
   "file_extension": ".py",
   "mimetype": "text/x-python",
   "name": "python",
   "nbconvert_exporter": "python",
   "pygments_lexer": "ipython3",
   "version": "3.8.5"
  }
 },
 "nbformat": 4,
 "nbformat_minor": 5
}