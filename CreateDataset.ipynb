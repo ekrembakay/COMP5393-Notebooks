{
 "cells": [
  {
   "cell_type": "code",
   "execution_count": 3,
   "outputs": [],
   "source": [
    "import os\n",
    "import pandas as pd\n",
    "import numpy as np"
   ],
   "metadata": {
    "collapsed": false,
    "pycharm": {
     "name": "#%%\n"
    }
   }
  },
  {
   "cell_type": "code",
   "execution_count": 23,
   "outputs": [],
   "source": [
    "def load_files():\n",
    "    new_dic = {}\n",
    "    Topic, Essay, S1, S2, S3 = [], [] , [], [], []\n",
    "    file_path = os.path.join(os.getcwd(), \"essays/\")\n",
    "    for file in os.listdir(file_path):\n",
    "        extension = os.path.splitext(file)[1]\n",
    "        if extension == \".txt\":\n",
    "            with open(os.path.join(file_path, file)) as f:\n",
    "                index = 0\n",
    "                essay_line = \"\"\n",
    "                for line in f:\n",
    "                    if line.strip()=='#':\n",
    "                        index += 1\n",
    "                        continue\n",
    "                    if index == 0:\n",
    "                        Topic.append(line.strip())\n",
    "                    elif index == 1:\n",
    "                        essay_line = essay_line + \" \" + line.strip()\n",
    "                    elif index == 2:\n",
    "                        S1.append(float(line.rstrip()))\n",
    "                    elif index == 3:\n",
    "                        S2.append(float(line.rstrip()))\n",
    "                    else:\n",
    "                        S3.append(float(line.rstrip()))\n",
    "                Essay.append(essay_line)\n",
    "        new_dic = {'EssayTopic': Topic, 'EssayBody': Essay, 'S1': S1, 'S2': S2, 'S3': S3}\n",
    "    return new_dic\n"
   ],
   "metadata": {
    "collapsed": false,
    "pycharm": {
     "name": "#%%\n"
    }
   }
  },
  {
   "cell_type": "code",
   "execution_count": 24,
   "outputs": [
    {
     "data": {
      "text/plain": "                                           EssayTopic  \\\n0   What are the most important challenges or prob...   \n1       What are the characteristics of bad teachers?   \n2       What are the characteristics of bad teachers?   \n3   Money can solve all problems. Do you agree or ...   \n4       What are the characteristics of bad teachers?   \n..                                                ...   \n63  Money can solve all problems. Do you agree or ...   \n64  What are the most important challenges or prob...   \n65  What are the most important challenges or prob...   \n66  It is not worth going to university anymore. D...   \n67  What are the most important challenges or prob...   \n\n                                            EssayBody   S1   S2   S3  \\\n0    While time spent at college is a happy experi...  7.0  7.5  7.5   \n1    Bad teachers, for sure, are one of the main r...  8.0  8.0  7.5   \n2    Certainly, bad teachers can be one of the mai...  8.0  8.5  8.5   \n3    The power of money in solving important and f...  9.0  9.0  8.5   \n4    Certainly, bad teachers can be one of the mai...  8.5  8.5  8.5   \n..                                                ...  ...  ...  ...   \n63   There is a general belief, especially among p...  8.5  9.0  8.5   \n64   Studying at university will certainly be frau...  7.5  8.0  7.5   \n65   Studying at university is certainly fraught w...  8.0  8.0  8.0   \n66   Choosing whether or not to go to university i...  8.0  8.0  8.0   \n67   While time spent at college is a happy experi...  8.0  8.5  8.5   \n\n    EssayScore  \n0          7.5  \n1          8.0  \n2          8.5  \n3          9.0  \n4          8.5  \n..         ...  \n63         8.5  \n64         7.5  \n65         8.0  \n66         8.0  \n67         8.5  \n\n[68 rows x 6 columns]",
      "text/html": "<div>\n<style scoped>\n    .dataframe tbody tr th:only-of-type {\n        vertical-align: middle;\n    }\n\n    .dataframe tbody tr th {\n        vertical-align: top;\n    }\n\n    .dataframe thead th {\n        text-align: right;\n    }\n</style>\n<table border=\"1\" class=\"dataframe\">\n  <thead>\n    <tr style=\"text-align: right;\">\n      <th></th>\n      <th>EssayTopic</th>\n      <th>EssayBody</th>\n      <th>S1</th>\n      <th>S2</th>\n      <th>S3</th>\n      <th>EssayScore</th>\n    </tr>\n  </thead>\n  <tbody>\n    <tr>\n      <th>0</th>\n      <td>What are the most important challenges or prob...</td>\n      <td>While time spent at college is a happy experi...</td>\n      <td>7.0</td>\n      <td>7.5</td>\n      <td>7.5</td>\n      <td>7.5</td>\n    </tr>\n    <tr>\n      <th>1</th>\n      <td>What are the characteristics of bad teachers?</td>\n      <td>Bad teachers, for sure, are one of the main r...</td>\n      <td>8.0</td>\n      <td>8.0</td>\n      <td>7.5</td>\n      <td>8.0</td>\n    </tr>\n    <tr>\n      <th>2</th>\n      <td>What are the characteristics of bad teachers?</td>\n      <td>Certainly, bad teachers can be one of the mai...</td>\n      <td>8.0</td>\n      <td>8.5</td>\n      <td>8.5</td>\n      <td>8.5</td>\n    </tr>\n    <tr>\n      <th>3</th>\n      <td>Money can solve all problems. Do you agree or ...</td>\n      <td>The power of money in solving important and f...</td>\n      <td>9.0</td>\n      <td>9.0</td>\n      <td>8.5</td>\n      <td>9.0</td>\n    </tr>\n    <tr>\n      <th>4</th>\n      <td>What are the characteristics of bad teachers?</td>\n      <td>Certainly, bad teachers can be one of the mai...</td>\n      <td>8.5</td>\n      <td>8.5</td>\n      <td>8.5</td>\n      <td>8.5</td>\n    </tr>\n    <tr>\n      <th>...</th>\n      <td>...</td>\n      <td>...</td>\n      <td>...</td>\n      <td>...</td>\n      <td>...</td>\n      <td>...</td>\n    </tr>\n    <tr>\n      <th>63</th>\n      <td>Money can solve all problems. Do you agree or ...</td>\n      <td>There is a general belief, especially among p...</td>\n      <td>8.5</td>\n      <td>9.0</td>\n      <td>8.5</td>\n      <td>8.5</td>\n    </tr>\n    <tr>\n      <th>64</th>\n      <td>What are the most important challenges or prob...</td>\n      <td>Studying at university will certainly be frau...</td>\n      <td>7.5</td>\n      <td>8.0</td>\n      <td>7.5</td>\n      <td>7.5</td>\n    </tr>\n    <tr>\n      <th>65</th>\n      <td>What are the most important challenges or prob...</td>\n      <td>Studying at university is certainly fraught w...</td>\n      <td>8.0</td>\n      <td>8.0</td>\n      <td>8.0</td>\n      <td>8.0</td>\n    </tr>\n    <tr>\n      <th>66</th>\n      <td>It is not worth going to university anymore. D...</td>\n      <td>Choosing whether or not to go to university i...</td>\n      <td>8.0</td>\n      <td>8.0</td>\n      <td>8.0</td>\n      <td>8.0</td>\n    </tr>\n    <tr>\n      <th>67</th>\n      <td>What are the most important challenges or prob...</td>\n      <td>While time spent at college is a happy experi...</td>\n      <td>8.0</td>\n      <td>8.5</td>\n      <td>8.5</td>\n      <td>8.5</td>\n    </tr>\n  </tbody>\n</table>\n<p>68 rows × 6 columns</p>\n</div>"
     },
     "execution_count": 24,
     "metadata": {},
     "output_type": "execute_result"
    }
   ],
   "source": [
    "df = pd.DataFrame.from_dict(load_files())\n",
    "df['EssayScore'] = np.round(((df[\"S1\"] + df[\"S2\"] + df[\"S3\"])/3)*2)/2\n",
    "df"
   ],
   "metadata": {
    "collapsed": false,
    "pycharm": {
     "name": "#%%\n"
    }
   }
  },
  {
   "cell_type": "code",
   "execution_count": 26,
   "outputs": [],
   "source": [
    "df.to_csv(\"essay_dataset_another2.csv\")"
   ],
   "metadata": {
    "collapsed": false,
    "pycharm": {
     "name": "#%%\n"
    }
   }
  },
  {
   "cell_type": "code",
   "execution_count": null,
   "outputs": [],
   "source": [],
   "metadata": {
    "collapsed": false,
    "pycharm": {
     "name": "#%%\n"
    }
   }
  }
 ],
 "metadata": {
  "kernelspec": {
   "display_name": "Python 3",
   "language": "python",
   "name": "python3"
  },
  "language_info": {
   "codemirror_mode": {
    "name": "ipython",
    "version": 2
   },
   "file_extension": ".py",
   "mimetype": "text/x-python",
   "name": "python",
   "nbconvert_exporter": "python",
   "pygments_lexer": "ipython2",
   "version": "2.7.6"
  }
 },
 "nbformat": 4,
 "nbformat_minor": 0
}