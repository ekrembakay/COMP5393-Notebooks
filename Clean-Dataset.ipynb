{
 "cells": [
  {
   "cell_type": "code",
   "execution_count": 1,
   "id": "47455b7d",
   "metadata": {},
   "outputs": [],
   "source": [
    "import pandas as pd\n",
    "import numpy as np\n",
    "import matplotlib.pyplot as plt\n",
    "import re\n",
    "import spacy"
   ]
  },
  {
   "cell_type": "code",
   "execution_count": 3,
   "id": "2f7bb888",
   "metadata": {},
   "outputs": [
    {
     "data": {
      "text/html": [
       "<div>\n",
       "<style scoped>\n",
       "    .dataframe tbody tr th:only-of-type {\n",
       "        vertical-align: middle;\n",
       "    }\n",
       "\n",
       "    .dataframe tbody tr th {\n",
       "        vertical-align: top;\n",
       "    }\n",
       "\n",
       "    .dataframe thead th {\n",
       "        text-align: right;\n",
       "    }\n",
       "</style>\n",
       "<table border=\"1\" class=\"dataframe\">\n",
       "  <thead>\n",
       "    <tr style=\"text-align: right;\">\n",
       "      <th></th>\n",
       "      <th>ID</th>\n",
       "      <th>EssayTopic</th>\n",
       "      <th>EssayBody</th>\n",
       "      <th>ParagraphCount</th>\n",
       "      <th>WordCount</th>\n",
       "      <th>EssayScore</th>\n",
       "      <th>CC_Score</th>\n",
       "      <th>LR_Score</th>\n",
       "      <th>GRA_Score</th>\n",
       "      <th>TA_Score</th>\n",
       "    </tr>\n",
       "  </thead>\n",
       "  <tbody>\n",
       "    <tr>\n",
       "      <th>0</th>\n",
       "      <td>32113</td>\n",
       "      <td>Some people opine that increasing office hour ...</td>\n",
       "      <td>A balanced professional and personal life is t...</td>\n",
       "      <td>4</td>\n",
       "      <td>290</td>\n",
       "      <td>6.0</td>\n",
       "      <td>6.0</td>\n",
       "      <td>5.5</td>\n",
       "      <td>6.5</td>\n",
       "      <td>6.0</td>\n",
       "    </tr>\n",
       "    <tr>\n",
       "      <th>1</th>\n",
       "      <td>22939</td>\n",
       "      <td>An escarpment is an area of the Earth where el...</td>\n",
       "      <td>A better climate is required for the good life...</td>\n",
       "      <td>4</td>\n",
       "      <td>316</td>\n",
       "      <td>7.5</td>\n",
       "      <td>7.5</td>\n",
       "      <td>7.5</td>\n",
       "      <td>7.5</td>\n",
       "      <td>7.5</td>\n",
       "    </tr>\n",
       "    <tr>\n",
       "      <th>2</th>\n",
       "      <td>20092</td>\n",
       "      <td>You have just spent a week with a friend on ho...</td>\n",
       "      <td>A big boom in the automobile industry has laun...</td>\n",
       "      <td>4</td>\n",
       "      <td>315</td>\n",
       "      <td>7.0</td>\n",
       "      <td>7.0</td>\n",
       "      <td>7.0</td>\n",
       "      <td>7.0</td>\n",
       "      <td>7.0</td>\n",
       "    </tr>\n",
       "    <tr>\n",
       "      <th>3</th>\n",
       "      <td>24691</td>\n",
       "      <td>Children who have brothers and sisters often h...</td>\n",
       "      <td>A big deal of people agree that social network...</td>\n",
       "      <td>5</td>\n",
       "      <td>287</td>\n",
       "      <td>7.5</td>\n",
       "      <td>7.5</td>\n",
       "      <td>7.5</td>\n",
       "      <td>7.5</td>\n",
       "      <td>7.5</td>\n",
       "    </tr>\n",
       "    <tr>\n",
       "      <th>4</th>\n",
       "      <td>30157</td>\n",
       "      <td>Many people believe that formal ‚Äúpen and pap...</td>\n",
       "      <td>A big number of people in our country still be...</td>\n",
       "      <td>4</td>\n",
       "      <td>300</td>\n",
       "      <td>8.5</td>\n",
       "      <td>8.5</td>\n",
       "      <td>8.5</td>\n",
       "      <td>8.5</td>\n",
       "      <td>8.5</td>\n",
       "    </tr>\n",
       "  </tbody>\n",
       "</table>\n",
       "</div>"
      ],
      "text/plain": [
       "      ID                                         EssayTopic  \\\n",
       "0  32113  Some people opine that increasing office hour ...   \n",
       "1  22939  An escarpment is an area of the Earth where el...   \n",
       "2  20092  You have just spent a week with a friend on ho...   \n",
       "3  24691  Children who have brothers and sisters often h...   \n",
       "4  30157  Many people believe that formal ‚Äúpen and pap...   \n",
       "\n",
       "                                           EssayBody  ParagraphCount  \\\n",
       "0  A balanced professional and personal life is t...               4   \n",
       "1  A better climate is required for the good life...               4   \n",
       "2  A big boom in the automobile industry has laun...               4   \n",
       "3  A big deal of people agree that social network...               5   \n",
       "4  A big number of people in our country still be...               4   \n",
       "\n",
       "   WordCount  EssayScore  CC_Score  LR_Score  GRA_Score  TA_Score  \n",
       "0        290         6.0       6.0       5.5        6.5       6.0  \n",
       "1        316         7.5       7.5       7.5        7.5       7.5  \n",
       "2        315         7.0       7.0       7.0        7.0       7.0  \n",
       "3        287         7.5       7.5       7.5        7.5       7.5  \n",
       "4        300         8.5       8.5       8.5        8.5       8.5  "
      ]
     },
     "execution_count": 3,
     "metadata": {},
     "output_type": "execute_result"
    }
   ],
   "source": [
    "essays = pd.read_csv('essay_dataset_new_full2.csv', encoding = \"utf-8\")\n",
    "essays.head()"
   ]
  },
  {
   "cell_type": "code",
   "execution_count": 4,
   "id": "94e1f02c",
   "metadata": {},
   "outputs": [
    {
     "data": {
      "text/plain": [
       "(23333, 10)"
      ]
     },
     "execution_count": 4,
     "metadata": {},
     "output_type": "execute_result"
    }
   ],
   "source": [
    "essays.shape"
   ]
  },
  {
   "cell_type": "code",
   "execution_count": 5,
   "id": "0e42de0b",
   "metadata": {},
   "outputs": [
    {
     "data": {
      "text/plain": [
       "(23333, 10)"
      ]
     },
     "execution_count": 5,
     "metadata": {},
     "output_type": "execute_result"
    }
   ],
   "source": [
    "essays = essays[~essays['EssayBody'].astype(str).str.startswith('Dear')]\n",
    "essays = essays.drop(essays[essays.WordCount < 20].index)\n",
    "essays.shape"
   ]
  },
  {
   "cell_type": "code",
   "execution_count": 6,
   "id": "56dc7bb2",
   "metadata": {},
   "outputs": [
    {
     "data": {
      "text/html": [
       "<div>\n",
       "<style scoped>\n",
       "    .dataframe tbody tr th:only-of-type {\n",
       "        vertical-align: middle;\n",
       "    }\n",
       "\n",
       "    .dataframe tbody tr th {\n",
       "        vertical-align: top;\n",
       "    }\n",
       "\n",
       "    .dataframe thead th {\n",
       "        text-align: right;\n",
       "    }\n",
       "</style>\n",
       "<table border=\"1\" class=\"dataframe\">\n",
       "  <thead>\n",
       "    <tr style=\"text-align: right;\">\n",
       "      <th></th>\n",
       "      <th>ID</th>\n",
       "      <th>EssayBody</th>\n",
       "      <th>ParagraphCount</th>\n",
       "      <th>WordCount</th>\n",
       "      <th>EssayScore</th>\n",
       "    </tr>\n",
       "  </thead>\n",
       "  <tbody>\n",
       "    <tr>\n",
       "      <th>0</th>\n",
       "      <td>32113</td>\n",
       "      <td>A balanced professional and personal life is t...</td>\n",
       "      <td>4</td>\n",
       "      <td>290</td>\n",
       "      <td>6.0</td>\n",
       "    </tr>\n",
       "    <tr>\n",
       "      <th>1</th>\n",
       "      <td>22939</td>\n",
       "      <td>A better climate is required for the good life...</td>\n",
       "      <td>4</td>\n",
       "      <td>316</td>\n",
       "      <td>7.5</td>\n",
       "    </tr>\n",
       "    <tr>\n",
       "      <th>2</th>\n",
       "      <td>20092</td>\n",
       "      <td>A big boom in the automobile industry has laun...</td>\n",
       "      <td>4</td>\n",
       "      <td>315</td>\n",
       "      <td>7.0</td>\n",
       "    </tr>\n",
       "    <tr>\n",
       "      <th>3</th>\n",
       "      <td>24691</td>\n",
       "      <td>A big deal of people agree that social network...</td>\n",
       "      <td>5</td>\n",
       "      <td>287</td>\n",
       "      <td>7.5</td>\n",
       "    </tr>\n",
       "    <tr>\n",
       "      <th>4</th>\n",
       "      <td>30157</td>\n",
       "      <td>A big number of people in our country still be...</td>\n",
       "      <td>4</td>\n",
       "      <td>300</td>\n",
       "      <td>8.5</td>\n",
       "    </tr>\n",
       "  </tbody>\n",
       "</table>\n",
       "</div>"
      ],
      "text/plain": [
       "      ID                                          EssayBody  ParagraphCount  \\\n",
       "0  32113  A balanced professional and personal life is t...               4   \n",
       "1  22939  A better climate is required for the good life...               4   \n",
       "2  20092  A big boom in the automobile industry has laun...               4   \n",
       "3  24691  A big deal of people agree that social network...               5   \n",
       "4  30157  A big number of people in our country still be...               4   \n",
       "\n",
       "   WordCount  EssayScore  \n",
       "0        290         6.0  \n",
       "1        316         7.5  \n",
       "2        315         7.0  \n",
       "3        287         7.5  \n",
       "4        300         8.5  "
      ]
     },
     "execution_count": 6,
     "metadata": {},
     "output_type": "execute_result"
    }
   ],
   "source": [
    "drop_columns = ['EssayTopic', 'CC_Score', 'LR_Score', 'GRA_Score', 'TA_Score']\n",
    "essays.drop(drop_columns, axis = 1, inplace = True)\n",
    "essays.head()"
   ]
  },
  {
   "cell_type": "code",
   "execution_count": 7,
   "id": "a9c0251b",
   "metadata": {},
   "outputs": [],
   "source": [
    "essays['EssayBody'] = essays['EssayBody'].apply(lambda x: x.encode('ascii', 'ignore').\\\n",
    "                                          strip().decode())\n"
   ]
  },
  {
   "cell_type": "code",
   "execution_count": 8,
   "id": "d7e307d5",
   "metadata": {},
   "outputs": [
    {
     "name": "stdout",
     "output_type": "stream",
     "text": [
      "Number of null values in each column:\n",
      " \n",
      "ID                0\n",
      "EssayBody         0\n",
      "ParagraphCount    0\n",
      "WordCount         0\n",
      "EssayScore        0\n",
      "dtype: int64\n",
      "\n",
      "Data Type of each column:\n",
      " \n",
      "ID                  int64\n",
      "EssayBody          object\n",
      "ParagraphCount      int64\n",
      "WordCount           int64\n",
      "EssayScore        float64\n",
      "dtype: object \n",
      "\n"
     ]
    }
   ],
   "source": [
    "isnull = essays.isnull().sum()\n",
    "dtype = essays.dtypes\n",
    "print('Number of null values in each column:\\n \\n{}\\n'.format(isnull))\n",
    "print('Data Type of each column:\\n \\n{} \\n'.format(dtype))"
   ]
  },
  {
   "cell_type": "code",
   "execution_count": 9,
   "id": "d97297b2",
   "metadata": {},
   "outputs": [],
   "source": [
    "nlp = spacy.load(\"en_core_web_sm\")\n",
    "#nlp.add_pipe(\"merge_entities\")\n",
    "def ner_tag(text):\n",
    "    doc = nlp(text)\n",
    "    new_text = (\" \".join([t.text if not t.ent_type_ else '@' + t.ent_type_ for t in doc])).strip()\n",
    "    return new_text"
   ]
  },
  {
   "cell_type": "code",
   "execution_count": 10,
   "id": "21ea9d6d",
   "metadata": {},
   "outputs": [
    {
     "name": "stdout",
     "output_type": "stream",
     "text": [
      "Done!\n"
     ]
    }
   ],
   "source": [
    "essays['EssayBody'] = essays['EssayBody'].map(ner_tag)\n",
    "essays.to_csv('essay_dataset_with_ner.csv',index=False)  \n",
    "print('Done!')"
   ]
  },
  {
   "cell_type": "markdown",
   "id": "b6c7c0e3",
   "metadata": {},
   "source": [
    "________\n",
    "________\n",
    "________"
   ]
  },
  {
   "cell_type": "code",
   "execution_count": 11,
   "id": "9738265f",
   "metadata": {},
   "outputs": [
    {
     "data": {
      "text/html": [
       "<div>\n",
       "<style scoped>\n",
       "    .dataframe tbody tr th:only-of-type {\n",
       "        vertical-align: middle;\n",
       "    }\n",
       "\n",
       "    .dataframe tbody tr th {\n",
       "        vertical-align: top;\n",
       "    }\n",
       "\n",
       "    .dataframe thead th {\n",
       "        text-align: right;\n",
       "    }\n",
       "</style>\n",
       "<table border=\"1\" class=\"dataframe\">\n",
       "  <thead>\n",
       "    <tr style=\"text-align: right;\">\n",
       "      <th></th>\n",
       "      <th>ID</th>\n",
       "      <th>EssayBody</th>\n",
       "      <th>ParagraphCount</th>\n",
       "      <th>WordCount</th>\n",
       "      <th>EssayScore</th>\n",
       "    </tr>\n",
       "  </thead>\n",
       "  <tbody>\n",
       "    <tr>\n",
       "      <th>0</th>\n",
       "      <td>32113</td>\n",
       "      <td>A balanced professional and personal life is t...</td>\n",
       "      <td>4</td>\n",
       "      <td>290</td>\n",
       "      <td>6.0</td>\n",
       "    </tr>\n",
       "    <tr>\n",
       "      <th>1</th>\n",
       "      <td>22939</td>\n",
       "      <td>A better climate is required for the good life...</td>\n",
       "      <td>4</td>\n",
       "      <td>316</td>\n",
       "      <td>7.5</td>\n",
       "    </tr>\n",
       "    <tr>\n",
       "      <th>2</th>\n",
       "      <td>20092</td>\n",
       "      <td>A big boom in the automobile industry has laun...</td>\n",
       "      <td>4</td>\n",
       "      <td>315</td>\n",
       "      <td>7.0</td>\n",
       "    </tr>\n",
       "    <tr>\n",
       "      <th>3</th>\n",
       "      <td>24691</td>\n",
       "      <td>A big deal of people agree that social network...</td>\n",
       "      <td>5</td>\n",
       "      <td>287</td>\n",
       "      <td>7.5</td>\n",
       "    </tr>\n",
       "    <tr>\n",
       "      <th>4</th>\n",
       "      <td>30157</td>\n",
       "      <td>A big number of people in our country still be...</td>\n",
       "      <td>4</td>\n",
       "      <td>300</td>\n",
       "      <td>8.5</td>\n",
       "    </tr>\n",
       "  </tbody>\n",
       "</table>\n",
       "</div>"
      ],
      "text/plain": [
       "      ID                                          EssayBody  ParagraphCount  \\\n",
       "0  32113  A balanced professional and personal life is t...               4   \n",
       "1  22939  A better climate is required for the good life...               4   \n",
       "2  20092  A big boom in the automobile industry has laun...               4   \n",
       "3  24691  A big deal of people agree that social network...               5   \n",
       "4  30157  A big number of people in our country still be...               4   \n",
       "\n",
       "   WordCount  EssayScore  \n",
       "0        290         6.0  \n",
       "1        316         7.5  \n",
       "2        315         7.0  \n",
       "3        287         7.5  \n",
       "4        300         8.5  "
      ]
     },
     "execution_count": 11,
     "metadata": {},
     "output_type": "execute_result"
    }
   ],
   "source": [
    "clean_essays = pd.read_csv('essay_dataset_with_ner.csv')\n",
    "clean_essays.head()"
   ]
  },
  {
   "cell_type": "code",
   "execution_count": 4,
   "id": "597d0dc7",
   "metadata": {},
   "outputs": [
    {
     "name": "stdout",
     "output_type": "stream",
     "text": [
      "Number of null values in each column:\n",
      " \n",
      "ID                0\n",
      "EssayBody         0\n",
      "ParagraphCount    0\n",
      "WordCount         0\n",
      "EssayScore        0\n",
      "dtype: int64\n",
      "\n",
      "Data Type of each column:\n",
      " \n",
      "ID                  int64\n",
      "EssayBody          object\n",
      "ParagraphCount      int64\n",
      "WordCount           int64\n",
      "EssayScore        float64\n",
      "dtype: object \n",
      "\n"
     ]
    }
   ],
   "source": [
    "isnull = clean_essays.isnull().sum()\n",
    "dtype = clean_essays.dtypes\n",
    "print('Number of null values in each column:\\n \\n{}\\n'.format(isnull))\n",
    "print('Data Type of each column:\\n \\n{} \\n'.format(dtype))"
   ]
  },
  {
   "cell_type": "code",
   "execution_count": 5,
   "id": "57b0f6a2",
   "metadata": {},
   "outputs": [
    {
     "data": {
      "text/plain": [
       "<AxesSubplot:>"
      ]
     },
     "execution_count": 5,
     "metadata": {},
     "output_type": "execute_result"
    },
    {
     "data": {
      "image/png": "[encoded data removed]",
      "text/plain": [
       "<Figure size 432x288 with 1 Axes>"
      ]
     },
     "metadata": {
      "needs_background": "light"
     },
     "output_type": "display_data"
    }
   ],
   "source": [
    "clean_essays['EssayScore'].value_counts().sort_index().plot(kind='bar')"
   ]
  },
  {
   "cell_type": "code",
   "execution_count": null,
   "id": "cf0648bb",
   "metadata": {},
   "outputs": [],
   "source": [
    "\"\"\"def convert_to_category(score):\n",
    "    if score == 5.0:\n",
    "        return str(0)\n",
    "    elif score == 5.5:\n",
    "        return str(1)\n",
    "    elif score == 6.0:\n",
    "        return str(1)\n",
    "    elif score == 6.5:\n",
    "        return str(1)\n",
    "    elif score == 7.0:\n",
    "        return str(1)\n",
    "    elif score == 7.5:\n",
    "        return str(1)\n",
    "    elif score == 8.5:\n",
    "        return str(1)\n",
    "    else:\n",
    "        return str(9)\"\"\""
   ]
  },
  {
   "cell_type": "code",
   "execution_count": 21,
   "id": "f5f96ec1",
   "metadata": {},
   "outputs": [
    {
     "data": {
      "text/html": [
       "<div>\n",
       "<style scoped>\n",
       "    .dataframe tbody tr th:only-of-type {\n",
       "        vertical-align: middle;\n",
       "    }\n",
       "\n",
       "    .dataframe tbody tr th {\n",
       "        vertical-align: top;\n",
       "    }\n",
       "\n",
       "    .dataframe thead th {\n",
       "        text-align: right;\n",
       "    }\n",
       "</style>\n",
       "<table border=\"1\" class=\"dataframe\">\n",
       "  <thead>\n",
       "    <tr style=\"text-align: right;\">\n",
       "      <th></th>\n",
       "      <th>ID</th>\n",
       "      <th>EssayBody</th>\n",
       "      <th>ParagraphCount</th>\n",
       "      <th>WordCount</th>\n",
       "      <th>EssayScore</th>\n",
       "    </tr>\n",
       "  </thead>\n",
       "  <tbody>\n",
       "    <tr>\n",
       "      <th>0</th>\n",
       "      <td>1</td>\n",
       "      <td>Over DATE , our cities faced unprecedented gro...</td>\n",
       "      <td>4</td>\n",
       "      <td>350</td>\n",
       "      <td>2</td>\n",
       "    </tr>\n",
       "    <tr>\n",
       "      <th>1</th>\n",
       "      <td>2</td>\n",
       "      <td>According to some people , the role of a fathe...</td>\n",
       "      <td>4</td>\n",
       "      <td>419</td>\n",
       "      <td>2</td>\n",
       "    </tr>\n",
       "    <tr>\n",
       "      <th>2</th>\n",
       "      <td>3</td>\n",
       "      <td>Thesedays , number of crime commit by the youn...</td>\n",
       "      <td>3</td>\n",
       "      <td>197</td>\n",
       "      <td>0</td>\n",
       "    </tr>\n",
       "    <tr>\n",
       "      <th>3</th>\n",
       "      <td>4</td>\n",
       "      <td>Some people believe that sharing details of re...</td>\n",
       "      <td>4</td>\n",
       "      <td>281</td>\n",
       "      <td>2</td>\n",
       "    </tr>\n",
       "    <tr>\n",
       "      <th>4</th>\n",
       "      <td>5</td>\n",
       "      <td>People DATE have contradictory opinion regardi...</td>\n",
       "      <td>12</td>\n",
       "      <td>410</td>\n",
       "      <td>1</td>\n",
       "    </tr>\n",
       "  </tbody>\n",
       "</table>\n",
       "</div>"
      ],
      "text/plain": [
       "   ID                                          EssayBody  ParagraphCount  \\\n",
       "0   1  Over DATE , our cities faced unprecedented gro...               4   \n",
       "1   2  According to some people , the role of a fathe...               4   \n",
       "2   3  Thesedays , number of crime commit by the youn...               3   \n",
       "3   4  Some people believe that sharing details of re...               4   \n",
       "4   5  People DATE have contradictory opinion regardi...              12   \n",
       "\n",
       "   WordCount  EssayScore  \n",
       "0        350           2  \n",
       "1        419           2  \n",
       "2        197           0  \n",
       "3        281           2  \n",
       "4        410           1  "
      ]
     },
     "execution_count": 21,
     "metadata": {},
     "output_type": "execute_result"
    }
   ],
   "source": [
    "clean_essays['EssayScore'] = clean_essays.EssayScore.astype(\"category\").cat.codes\n",
    "clean_essays.head()"
   ]
  },
  {
   "cell_type": "code",
   "execution_count": 45,
   "id": "3d77e0d2",
   "metadata": {},
   "outputs": [
    {
     "data": {
      "text/plain": [
       "ID                  int64\n",
       "EssayBody          object\n",
       "ParagraphCount      int64\n",
       "WordCount           int64\n",
       "EssayScore        float64\n",
       "dtype: object"
      ]
     },
     "execution_count": 45,
     "metadata": {},
     "output_type": "execute_result"
    }
   ],
   "source": [
    "clean_essays.dtypes"
   ]
  },
  {
   "cell_type": "markdown",
   "id": "095ba519",
   "metadata": {},
   "source": [
    "_______"
   ]
  },
  {
   "cell_type": "markdown",
   "id": "e4bfa868",
   "metadata": {},
   "source": [
    "_________"
   ]
  },
  {
   "cell_type": "code",
   "execution_count": 22,
   "id": "c7b82340",
   "metadata": {},
   "outputs": [],
   "source": [
    "X = clean_essays[['EssayBody']].copy()\n",
    "y = clean_essays[['EssayScore']].copy()"
   ]
  },
  {
   "cell_type": "code",
   "execution_count": 23,
   "id": "c86a044f",
   "metadata": {},
   "outputs": [
    {
     "name": "stderr",
     "output_type": "stream",
     "text": [
      "[nltk_data] Downloading package punkt to\n",
      "[nltk_data]     /Users/ekrembakay/nltk_data...\n",
      "[nltk_data]   Package punkt is already up-to-date!\n",
      "[nltk_data] Downloading package stopwords to\n",
      "[nltk_data]     /Users/ekrembakay/nltk_data...\n",
      "[nltk_data]   Package stopwords is already up-to-date!\n"
     ]
    },
    {
     "data": {
      "text/plain": [
       "True"
      ]
     },
     "execution_count": 23,
     "metadata": {},
     "output_type": "execute_result"
    }
   ],
   "source": [
    "import nltk\n",
    "nltk.download('punkt')\n",
    "nltk.download('stopwords')"
   ]
  },
  {
   "cell_type": "markdown",
   "id": "faf60918",
   "metadata": {},
   "source": [
    "def essay_to_wordlist(sentence):\n",
    "    \"\"\"Remove the tagged labels and word tokenize the sentence.\"\"\"\n",
    "    words = nltk.word_tokenize(sentence)\n",
    "    return words\n",
    "\n",
    "def essay_to_sentences(essay):\n",
    "    \"\"\"Sentence tokenize the essay and call essay_to_wordlist() for word tokenization.\"\"\"\n",
    "    raw_sentences = nltk.sent_tokenize(essay.strip())\n",
    "    sentences = []\n",
    "    for raw_sentence in raw_sentences:\n",
    "        if len(raw_sentence) > 0:\n",
    "            sentences.append(essay_to_wordlist(raw_sentence))\n",
    "    return sentences"
   ]
  },
  {
   "cell_type": "code",
   "execution_count": 24,
   "id": "776beb30",
   "metadata": {},
   "outputs": [],
   "source": [
    "import numpy as np\n",
    "import re\n",
    "from nltk.corpus import stopwords\n",
    "from gensim.models import Word2Vec\n",
    "\n",
    "\n",
    "def essay_to_wordlist(essay_v, remove_stopwords):\n",
    "    \"\"\"Remove the tagged labels and word tokenize the sentence.\"\"\"\n",
    "    essay_v = re.sub(\"[^a-zA-Z]\", \" \", essay_v)\n",
    "    words = essay_v.lower().split()\n",
    "    if remove_stopwords:\n",
    "        stops = set(stopwords.words(\"english\"))\n",
    "        words = [w for w in words if not w in stops]\n",
    "    return (words)\n",
    "\n",
    "def essay_to_sentences(essay_v, remove_stopwords):\n",
    "    \"\"\"Sentence tokenize the essay and call essay_to_wordlist() for word tokenization.\"\"\"\n",
    "    tokenizer = nltk.data.load('tokenizers/punkt/english.pickle')\n",
    "    raw_sentences = tokenizer.tokenize(essay_v.strip())\n",
    "    sentences = []\n",
    "    for raw_sentence in raw_sentences:\n",
    "        if len(raw_sentence) > 0:\n",
    "            sentences.append(essay_to_wordlist(raw_sentence, remove_stopwords=True))\n",
    "    return sentences\n",
    "\n",
    "def makeFeatureVec(words, model, num_features):\n",
    "    \"\"\"Make Feature Vector from the words list of an Essay.\"\"\"\n",
    "    featureVec = np.zeros((num_features,),dtype=\"float32\")\n",
    "    num_words = 0.\n",
    "    index2word_set = set(model.wv.index_to_key)\n",
    "    for word in words:\n",
    "        if word in index2word_set:\n",
    "            num_words += 1\n",
    "            featureVec = np.add(featureVec,model.wv[word])        \n",
    "    featureVec = np.divide(featureVec,num_words)\n",
    "    return featureVec\n",
    "\n",
    "def getAvgFeatureVecs(essays, model, num_features):\n",
    "    \"\"\"Main function to generate the word vectors for word2vec model.\"\"\"\n",
    "    counter = 0\n",
    "    essayFeatureVecs = np.zeros((len(essays),num_features),dtype=\"float32\")\n",
    "    for essay in essays:\n",
    "        essayFeatureVecs[counter] = makeFeatureVec(essay, model, num_features)\n",
    "        counter = counter + 1\n",
    "    return essayFeatureVecs"
   ]
  },
  {
   "cell_type": "code",
   "execution_count": 25,
   "id": "7fee99ef",
   "metadata": {},
   "outputs": [],
   "source": [
    "from keras.layers import Embedding, LSTM, Dense, Dropout, Lambda, Flatten\n",
    "from keras.models import Sequential, load_model, model_from_config\n",
    "import keras.backend as K\n",
    "\n",
    "def get_model():\n",
    "    \"\"\"Define the model.\"\"\"\n",
    "    model = Sequential()\n",
    "    model.add(LSTM(300, dropout=0.4, recurrent_dropout=0.4, input_shape=[1, 300], return_sequences=True))\n",
    "    model.add(LSTM(64, recurrent_dropout=0.4))\n",
    "    model.add(Dropout(0.5))\n",
    "    model.add(Dense(1, activation='relu'))\n",
    "\n",
    "    model.compile(loss='mean_squared_error', optimizer='rmsprop', metrics=['mae'])\n",
    "    model.summary()\n",
    "\n",
    "    return model"
   ]
  },
  {
   "cell_type": "code",
   "execution_count": 26,
   "id": "feb2e6e0",
   "metadata": {
    "scrolled": false
   },
   "outputs": [
    {
     "name": "stdout",
     "output_type": "stream",
     "text": [
      "\n",
      "--------Fold 1--------\n",
      "\n",
      "Training Word2Vec Model...\n",
      "Model: \"sequential_1\"\n",
      "_________________________________________________________________\n",
      " Layer (type)                Output Shape              Param #   \n",
      "=================================================================\n",
      " lstm_2 (LSTM)               (None, 1, 300)            721200    \n",
      "                                                                 \n",
      " lstm_3 (LSTM)               (None, 64)                93440     \n",
      "                                                                 \n",
      " dropout_1 (Dropout)         (None, 64)                0         \n",
      "                                                                 \n",
      " dense_1 (Dense)             (None, 1)                 65        \n",
      "                                                                 \n",
      "=================================================================\n",
      "Total params: 814,705\n",
      "Trainable params: 814,705\n",
      "Non-trainable params: 0\n",
      "_________________________________________________________________\n",
      "Epoch 1/50\n",
      "453/453 [==============================] - 8s 12ms/step - loss: 3.0180 - mae: 1.4172\n",
      "Epoch 2/50\n",
      "453/453 [==============================] - 5s 12ms/step - loss: 2.7411 - mae: 1.3622\n",
      "Epoch 3/50\n",
      "453/453 [==============================] - 5s 12ms/step - loss: 2.7247 - mae: 1.3569\n",
      "Epoch 4/50\n",
      "453/453 [==============================] - 5s 12ms/step - loss: 2.6971 - mae: 1.3496\n",
      "Epoch 5/50\n",
      "453/453 [==============================] - 5s 12ms/step - loss: 2.6706 - mae: 1.3435\n",
      "Epoch 6/50\n",
      "453/453 [==============================] - 6s 12ms/step - loss: 2.6684 - mae: 1.3457\n",
      "Epoch 7/50\n",
      "453/453 [==============================] - 5s 12ms/step - loss: 2.6210 - mae: 1.3325\n",
      "Epoch 8/50\n",
      "453/453 [==============================] - 5s 12ms/step - loss: 2.6128 - mae: 1.3293\n",
      "Epoch 9/50\n",
      "453/453 [==============================] - 5s 12ms/step - loss: 2.5997 - mae: 1.3284\n",
      "Epoch 10/50\n",
      "453/453 [==============================] - 5s 12ms/step - loss: 2.5774 - mae: 1.3234\n",
      "Epoch 11/50\n",
      "453/453 [==============================] - 5s 11ms/step - loss: 2.5664 - mae: 1.3182\n",
      "Epoch 12/50\n",
      "453/453 [==============================] - 5s 11ms/step - loss: 2.5583 - mae: 1.3145\n",
      "Epoch 13/50\n",
      "453/453 [==============================] - 5s 12ms/step - loss: 2.5461 - mae: 1.3128\n",
      "Epoch 14/50\n",
      "453/453 [==============================] - 5s 12ms/step - loss: 2.5292 - mae: 1.3086\n",
      "Epoch 15/50\n",
      "453/453 [==============================] - 5s 12ms/step - loss: 2.5049 - mae: 1.3023\n",
      "Epoch 16/50\n",
      "453/453 [==============================] - 5s 12ms/step - loss: 2.5067 - mae: 1.3033\n",
      "Epoch 17/50\n",
      "453/453 [==============================] - 5s 12ms/step - loss: 2.4678 - mae: 1.2926\n",
      "Epoch 18/50\n",
      "453/453 [==============================] - 5s 12ms/step - loss: 2.4743 - mae: 1.2930\n",
      "Epoch 19/50\n",
      "453/453 [==============================] - 5s 11ms/step - loss: 2.4563 - mae: 1.2891\n",
      "Epoch 20/50\n",
      "453/453 [==============================] - 6s 13ms/step - loss: 2.4294 - mae: 1.2824\n",
      "Epoch 21/50\n",
      "453/453 [==============================] - 5s 12ms/step - loss: 2.4293 - mae: 1.2794\n",
      "Epoch 22/50\n",
      "453/453 [==============================] - 5s 12ms/step - loss: 2.4067 - mae: 1.2748\n",
      "Epoch 23/50\n",
      "453/453 [==============================] - 5s 12ms/step - loss: 2.4033 - mae: 1.2722\n",
      "Epoch 24/50\n",
      "453/453 [==============================] - 5s 12ms/step - loss: 2.3854 - mae: 1.2677\n",
      "Epoch 25/50\n",
      "453/453 [==============================] - 5s 12ms/step - loss: 2.3789 - mae: 1.2664\n",
      "Epoch 26/50\n",
      "453/453 [==============================] - 5s 12ms/step - loss: 2.3615 - mae: 1.2621\n",
      "Epoch 27/50\n",
      "453/453 [==============================] - 5s 12ms/step - loss: 2.3453 - mae: 1.2556\n",
      "Epoch 28/50\n",
      "453/453 [==============================] - 5s 12ms/step - loss: 2.3190 - mae: 1.2479\n",
      "Epoch 29/50\n",
      "453/453 [==============================] - 5s 12ms/step - loss: 2.3151 - mae: 1.2472\n",
      "Epoch 30/50\n",
      "453/453 [==============================] - 5s 12ms/step - loss: 2.3026 - mae: 1.2448\n",
      "Epoch 31/50\n",
      "453/453 [==============================] - 5s 12ms/step - loss: 2.2907 - mae: 1.2402\n",
      "Epoch 32/50\n",
      "453/453 [==============================] - 5s 12ms/step - loss: 2.2763 - mae: 1.2346\n",
      "Epoch 33/50\n",
      "453/453 [==============================] - 5s 12ms/step - loss: 2.2556 - mae: 1.2303\n",
      "Epoch 34/50\n",
      "453/453 [==============================] - 5s 12ms/step - loss: 2.2545 - mae: 1.2274\n",
      "Epoch 35/50\n",
      "453/453 [==============================] - 5s 12ms/step - loss: 2.2367 - mae: 1.2227\n",
      "Epoch 36/50\n",
      "453/453 [==============================] - 5s 12ms/step - loss: 2.2286 - mae: 1.2196\n",
      "Epoch 37/50\n",
      "453/453 [==============================] - 5s 12ms/step - loss: 2.2063 - mae: 1.2141\n",
      "Epoch 38/50\n",
      "453/453 [==============================] - 5s 12ms/step - loss: 2.2025 - mae: 1.2114\n",
      "Epoch 39/50\n",
      "453/453 [==============================] - 5s 12ms/step - loss: 2.1933 - mae: 1.2105\n",
      "Epoch 40/50\n",
      "453/453 [==============================] - 5s 12ms/step - loss: 2.1706 - mae: 1.2028\n",
      "Epoch 41/50\n",
      "453/453 [==============================] - 5s 12ms/step - loss: 2.1658 - mae: 1.2007\n",
      "Epoch 42/50\n",
      "453/453 [==============================] - 5s 12ms/step - loss: 2.1582 - mae: 1.2010\n",
      "Epoch 43/50\n",
      "453/453 [==============================] - 5s 12ms/step - loss: 2.1458 - mae: 1.1957\n",
      "Epoch 44/50\n",
      "453/453 [==============================] - 6s 12ms/step - loss: 2.1309 - mae: 1.1897\n",
      "Epoch 45/50\n",
      "453/453 [==============================] - 5s 12ms/step - loss: 2.1235 - mae: 1.1898\n",
      "Epoch 46/50\n",
      "453/453 [==============================] - 5s 12ms/step - loss: 2.1051 - mae: 1.1827\n",
      "Epoch 47/50\n",
      "453/453 [==============================] - 6s 12ms/step - loss: 2.0966 - mae: 1.1807\n",
      "Epoch 48/50\n",
      "453/453 [==============================] - 5s 12ms/step - loss: 2.0977 - mae: 1.1776\n",
      "Epoch 49/50\n",
      "453/453 [==============================] - 5s 12ms/step - loss: 2.0715 - mae: 1.1735\n",
      "Epoch 50/50\n",
      "453/453 [==============================] - 5s 12ms/step - loss: 2.0834 - mae: 1.1741\n",
      "227/227 [==============================] - 1s 3ms/step\n",
      "Kappa Score: 0.20521080880546017\n"
     ]
    }
   ],
   "source": [
    "from sklearn.model_selection import KFold\n",
    "from sklearn.linear_model import LinearRegression\n",
    "from sklearn.metrics import cohen_kappa_score\n",
    "\n",
    "cv = KFold(5, shuffle=True)\n",
    "results = []\n",
    "y_pred_list = []\n",
    "\n",
    "count = 1\n",
    "for traincv, testcv in cv.split(X):\n",
    "    print(\"\\n--------Fold {}--------\\n\".format(count))\n",
    "    X_test, X_train, y_test, y_train = X.iloc[testcv], X.iloc[traincv], y.iloc[testcv], y.iloc[traincv]\n",
    "    \n",
    "    train_essays = X_train['EssayBody']\n",
    "    test_essays = X_test['EssayBody']\n",
    "    \n",
    "    sentences = []\n",
    "    \n",
    "    for essay in train_essays:\n",
    "            # Obtaining all sentences from the training essays.\n",
    "            sentences += essay_to_sentences(essay, remove_stopwords=True)\n",
    "            \n",
    "    # Initializing variables for word2vec model.\n",
    "    num_features = 300 \n",
    "    min_word_count = 40\n",
    "    num_workers = 4\n",
    "    context = 10\n",
    "    downsampling = 1e-3\n",
    "\n",
    "    print(\"Training Word2Vec Model...\")\n",
    "    model = Word2Vec(sentences, workers=num_workers, vector_size=num_features, min_count = min_word_count, window = context, sample = downsampling)\n",
    "\n",
    "    #model.init_sims(replace=True)\n",
    "    model.wv.save_word2vec_format('word2vecmodel.bin', binary=True)\n",
    "\n",
    "    clean_train_essays = []\n",
    "    \n",
    "    # Generate training and testing data word vectors.\n",
    "    for essay_v in train_essays:\n",
    "        clean_train_essays.append(essay_to_wordlist(essay_v, remove_stopwords=True))\n",
    "    trainDataVecs = getAvgFeatureVecs(clean_train_essays, model, num_features)\n",
    "    \n",
    "    clean_test_essays = []\n",
    "    for essay_v in test_essays:\n",
    "        clean_test_essays.append(essay_to_wordlist(essay_v, remove_stopwords=True))\n",
    "    testDataVecs = getAvgFeatureVecs(clean_test_essays, model, num_features )\n",
    "    \n",
    "    trainDataVecs = np.array(trainDataVecs)\n",
    "    testDataVecs = np.array(testDataVecs)\n",
    "    # Reshaping train and test vectors to 3 dimensions. (1 represnts one timestep)\n",
    "    trainDataVecs = np.reshape(trainDataVecs, (trainDataVecs.shape[0], 1, trainDataVecs.shape[1]))\n",
    "    testDataVecs = np.reshape(testDataVecs, (testDataVecs.shape[0], 1, testDataVecs.shape[1]))\n",
    "    \n",
    "    lstm_model = get_model()\n",
    "    lstm_model.fit(trainDataVecs, y_train, batch_size=64, epochs=50)\n",
    "    #lstm_model.load_weights('./model_weights/final_lstm.h5')\n",
    "    y_pred = lstm_model.predict(testDataVecs)\n",
    "    \n",
    "    # Round y_pred to the nearest integer.\n",
    "    y_pred = np.around(y_pred)\n",
    "    y_test = np.around(y_test)\n",
    "    \n",
    "    # Save any one of the 8 models.\n",
    "    if count == 5:\n",
    "         lstm_model.save('./model_weights/final_lstm.h5')\n",
    "    \n",
    "    # Evaluate the model on the evaluation metric. \"Quadratic mean averaged Kappa\"\n",
    "    result = cohen_kappa_score(y_test.values,y_pred,weights='quadratic')\n",
    "    print(\"Kappa Score: {}\".format(result))\n",
    "    results.append(result)\n",
    "    \n",
    "    count += 1\n",
    "    break"
   ]
  },
  {
   "cell_type": "code",
   "execution_count": 27,
   "id": "a79f49e4",
   "metadata": {},
   "outputs": [
    {
     "data": {
      "text/plain": [
       "array([[4.],\n",
       "       [3.],\n",
       "       [3.],\n",
       "       ...,\n",
       "       [3.],\n",
       "       [1.],\n",
       "       [4.]], dtype=float32)"
      ]
     },
     "execution_count": 27,
     "metadata": {},
     "output_type": "execute_result"
    }
   ],
   "source": [
    "y_pred"
   ]
  },
  {
   "cell_type": "code",
   "execution_count": 28,
   "id": "4287d1c2",
   "metadata": {},
   "outputs": [
    {
     "data": {
      "text/html": [
       "<div>\n",
       "<style scoped>\n",
       "    .dataframe tbody tr th:only-of-type {\n",
       "        vertical-align: middle;\n",
       "    }\n",
       "\n",
       "    .dataframe tbody tr th {\n",
       "        vertical-align: top;\n",
       "    }\n",
       "\n",
       "    .dataframe thead th {\n",
       "        text-align: right;\n",
       "    }\n",
       "</style>\n",
       "<table border=\"1\" class=\"dataframe\">\n",
       "  <thead>\n",
       "    <tr style=\"text-align: right;\">\n",
       "      <th></th>\n",
       "      <th>EssayScore</th>\n",
       "    </tr>\n",
       "  </thead>\n",
       "  <tbody>\n",
       "    <tr>\n",
       "      <th>0</th>\n",
       "      <td>2</td>\n",
       "    </tr>\n",
       "    <tr>\n",
       "      <th>2</th>\n",
       "      <td>0</td>\n",
       "    </tr>\n",
       "    <tr>\n",
       "      <th>6</th>\n",
       "      <td>2</td>\n",
       "    </tr>\n",
       "    <tr>\n",
       "      <th>9</th>\n",
       "      <td>2</td>\n",
       "    </tr>\n",
       "    <tr>\n",
       "      <th>20</th>\n",
       "      <td>2</td>\n",
       "    </tr>\n",
       "    <tr>\n",
       "      <th>...</th>\n",
       "      <td>...</td>\n",
       "    </tr>\n",
       "    <tr>\n",
       "      <th>36172</th>\n",
       "      <td>2</td>\n",
       "    </tr>\n",
       "    <tr>\n",
       "      <th>36176</th>\n",
       "      <td>2</td>\n",
       "    </tr>\n",
       "    <tr>\n",
       "      <th>36180</th>\n",
       "      <td>2</td>\n",
       "    </tr>\n",
       "    <tr>\n",
       "      <th>36189</th>\n",
       "      <td>2</td>\n",
       "    </tr>\n",
       "    <tr>\n",
       "      <th>36202</th>\n",
       "      <td>2</td>\n",
       "    </tr>\n",
       "  </tbody>\n",
       "</table>\n",
       "<p>7241 rows × 1 columns</p>\n",
       "</div>"
      ],
      "text/plain": [
       "       EssayScore\n",
       "0               2\n",
       "2               0\n",
       "6               2\n",
       "9               2\n",
       "20              2\n",
       "...           ...\n",
       "36172           2\n",
       "36176           2\n",
       "36180           2\n",
       "36189           2\n",
       "36202           2\n",
       "\n",
       "[7241 rows x 1 columns]"
      ]
     },
     "execution_count": 28,
     "metadata": {},
     "output_type": "execute_result"
    }
   ],
   "source": [
    "y_test"
   ]
  },
  {
   "cell_type": "code",
   "execution_count": null,
   "id": "53f98de4",
   "metadata": {},
   "outputs": [],
   "source": [
    "y_test = np.around(y_test)"
   ]
  },
  {
   "cell_type": "code",
   "execution_count": 29,
   "id": "6763d3a2",
   "metadata": {},
   "outputs": [
    {
     "data": {
      "text/plain": [
       "array([[4.],\n",
       "       [3.],\n",
       "       [3.],\n",
       "       ...,\n",
       "       [3.],\n",
       "       [1.],\n",
       "       [4.]], dtype=float32)"
      ]
     },
     "execution_count": 29,
     "metadata": {},
     "output_type": "execute_result"
    }
   ],
   "source": [
    "y_pred"
   ]
  },
  {
   "cell_type": "code",
   "execution_count": null,
   "id": "f7db54b9",
   "metadata": {},
   "outputs": [],
   "source": [
    "y_test2 = y_test.values\n",
    "y_test2 = np.around(y_test2, decimals = 1)\n",
    "y_test2"
   ]
  },
  {
   "cell_type": "code",
   "execution_count": 38,
   "id": "0d813ec1",
   "metadata": {},
   "outputs": [
    {
     "data": {
      "text/plain": [
       "\"According to some people , the role of a father in bringing up a child is as important as that of a mother and hence fatherhood must be lauded as much as motherhood . I fully agree with this view . Of course , the mother has a greater role than the father in bringing the child into this world , but once the baby is born both parents play an equal role in raising him . A father 's affection for the child is as pure and invaluable as that of a mother . In addition , both parents have the same biological relation with the child . Of course , the mother has a slightly more important role in DATE after the baby is born , but afterwards , their roles and responsibilities are more or less the same . Men 's idea of parenting has also changed dramatically over DATE . Earlier many men only provided financially for the child and shied away from other responsibilities of fatherhood . But the new age father belongs to an altogether different species . He believes in sharing every aspect of parenting with his wife . Needless to say , the modern father plays with the child , cuddles him , changes his diapers and calms him down when he is crying . He ensures that the child is fed and clothed properly and helps with his studies and homework . The modern mother also expects this of her husband . It is practically impossible for a woman to look after her child all the time and still pursue a demanding career . Needless to say , young mothers these days want their husbands to have the same role as them in raising the child . What 's more , whether or not the father plays an active role in the upbringing of the child , his son or daughter will always feel more secure and protected under his wings . For example , if a child is harassed by a bully , the father is the ORDINAL person he approaches for support . If the father was n't important , the child would not turn to him in the ORDINAL place . What 's more , in many families , the role of the father is not limited to providing emotional support . He is also the bread winner . He is the one who provides for the child and his mother . In conclusion , the inalienable blood relation and the emotional bond that the father shares with the child make fatherhood as important as motherhood . Also , I believe the idyllic joy of parenthood is as unique and special for a father as it is for a mother .\""
      ]
     },
     "execution_count": 38,
     "metadata": {},
     "output_type": "execute_result"
    }
   ],
   "source": [
    " train_essays[0:1][1]"
   ]
  },
  {
   "cell_type": "code",
   "execution_count": 31,
   "id": "7e386509",
   "metadata": {},
   "outputs": [
    {
     "data": {
      "text/plain": [
       "0        Over DATE , our cities faced unprecedented gro...\n",
       "2        Thesedays , number of crime commit by the youn...\n",
       "6        In virtually all developed countries around th...\n",
       "9        It is true that the rapid development of diffe...\n",
       "20       A section of society has been observed to cons...\n",
       "                               ...                        \n",
       "36172    Plastic bags are the most dangerous pollutant ...\n",
       "36176    A frequent debated topic whether children at s...\n",
       "36180    Climate change is a phenomenon affecting all p...\n",
       "36189    The word decision is a very important word in ...\n",
       "36202    Television is considered to be the best source...\n",
       "Name: EssayBody, Length: 7241, dtype: object"
      ]
     },
     "execution_count": 31,
     "metadata": {},
     "output_type": "execute_result"
    }
   ],
   "source": [
    "test_essays"
   ]
  },
  {
   "cell_type": "code",
   "execution_count": null,
   "id": "a161b264",
   "metadata": {},
   "outputs": [],
   "source": []
  }
 ],
 "metadata": {
  "kernelspec": {
   "display_name": "Python 3 (ipykernel)",
   "language": "python",
   "name": "python3"
  },
  "language_info": {
   "codemirror_mode": {
    "name": "ipython",
    "version": 3
   },
   "file_extension": ".py",
   "mimetype": "text/x-python",
   "name": "python",
   "nbconvert_exporter": "python",
   "pygments_lexer": "ipython3",
   "version": "3.8.5"
  }
 },
 "nbformat": 4,
 "nbformat_minor": 5
}
