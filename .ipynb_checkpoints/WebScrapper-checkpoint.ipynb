{
 "cells": [
  {
   "cell_type": "code",
   "execution_count": 1,
   "id": "b6ca8ef4",
   "metadata": {},
   "outputs": [
    {
     "name": "stdout",
     "output_type": "stream",
     "text": [
      "Requirement already satisfied: beautifulsoup4 in /home/ekrem/anaconda3/lib/python3.9/site-packages (4.11.1)\r\n",
      "Requirement already satisfied: soupsieve>1.2 in /home/ekrem/anaconda3/lib/python3.9/site-packages (from beautifulsoup4) (2.3.1)\r\n"
     ]
    }
   ],
   "source": [
    "!pip install beautifulsoup4"
   ]
  },
  {
   "cell_type": "code",
   "execution_count": 9,
   "id": "3b4f3f6f",
   "metadata": {},
   "outputs": [],
   "source": [
    "import requests\n",
    "from bs4 import BeautifulSoup\n",
    "import numpy as np\n",
    "import pandas as pd"
   ]
  },
  {
   "cell_type": "code",
   "execution_count": null,
   "id": "3be75a96",
   "metadata": {},
   "outputs": [],
   "source": [
    "def get_links(page_number):\n",
    "    URL = \"https://ielts69.com/essay/p/\" + str(page_number)\n",
    "    page = requests.get(URL)\n",
    "    soup = BeautifulSoup(page.content, \"html.parser\")\n",
    "    results = soup.find(class_=\"similar-post-list\")\n",
    "    link_elements = results.find_all(\"a\", href=True)\n",
    "    \n",
    "    links = []\n",
    "    \n",
    "    for link_element in link_elements:\n",
    "        link_url = link_element[\"href\"]\n",
    "        links.append(link_url)\n",
    "    \n",
    "    return links"
   ]
  },
  {
   "cell_type": "code",
   "execution_count": null,
   "id": "3bf282a3",
   "metadata": {},
   "outputs": [],
   "source": [
    "all_links = []\n",
    "for i in range(1,2061):\n",
    "    links = get_links(i)\n",
    "    all_links.append(links)\n",
    "\n",
    "all_links\n"
   ]
  },
  {
   "cell_type": "code",
   "execution_count": null,
   "id": "2f8872e7",
   "metadata": {},
   "outputs": [],
   "source": [
    "links_array = np.asarray(all_links).ravel()"
   ]
  },
  {
   "cell_type": "code",
   "execution_count": null,
   "id": "38f67159",
   "metadata": {},
   "outputs": [],
   "source": [
    "df = pd.DataFrame(links_array)\n",
    "df.to_csv(\"all_links.csv\")"
   ]
  },
  {
   "cell_type": "code",
   "execution_count": 21,
   "id": "78e8142d",
   "metadata": {},
   "outputs": [],
   "source": [
    "links = pd.read_csv(\"all_links.csv\")\n"
   ]
  },
  {
   "cell_type": "code",
   "execution_count": 22,
   "id": "0acf7c01",
   "metadata": {},
   "outputs": [
    {
     "data": {
      "text/html": [
       "<div>\n",
       "<style scoped>\n",
       "    .dataframe tbody tr th:only-of-type {\n",
       "        vertical-align: middle;\n",
       "    }\n",
       "\n",
       "    .dataframe tbody tr th {\n",
       "        vertical-align: top;\n",
       "    }\n",
       "\n",
       "    .dataframe thead th {\n",
       "        text-align: right;\n",
       "    }\n",
       "</style>\n",
       "<table border=\"1\" class=\"dataframe\">\n",
       "  <thead>\n",
       "    <tr style=\"text-align: right;\">\n",
       "      <th></th>\n",
       "      <th>0</th>\n",
       "    </tr>\n",
       "  </thead>\n",
       "  <tbody>\n",
       "    <tr>\n",
       "      <th>0</th>\n",
       "      <td>/essay/increasing-the-price-of-petrol-is-the-b...</td>\n",
       "    </tr>\n",
       "    <tr>\n",
       "      <th>1</th>\n",
       "      <td>/essay/fatherhood-ought-to-be-emphasized-as-mu...</td>\n",
       "    </tr>\n",
       "    <tr>\n",
       "      <th>2</th>\n",
       "      <td>/essay/as-computers-are-being-used-more-and-mo...</td>\n",
       "    </tr>\n",
       "    <tr>\n",
       "      <th>3</th>\n",
       "      <td>/essay/some-people-believe-that-it-is-good-to-...</td>\n",
       "    </tr>\n",
       "    <tr>\n",
       "      <th>4</th>\n",
       "      <td>/essay/some-people-believe-that-teaching-child...</td>\n",
       "    </tr>\n",
       "    <tr>\n",
       "      <th>...</th>\n",
       "      <td>...</td>\n",
       "    </tr>\n",
       "    <tr>\n",
       "      <th>36235</th>\n",
       "      <td>/essay/tpo-32-do-you-agree-or-disagree-with-th...</td>\n",
       "    </tr>\n",
       "    <tr>\n",
       "      <th>36236</th>\n",
       "      <td>/essay/tpo-29-do-you-agree-or-disagree-with-th...</td>\n",
       "    </tr>\n",
       "    <tr>\n",
       "      <th>36237</th>\n",
       "      <td>/essay/tpo-22-do-you-agree-or-disagree-with-th...</td>\n",
       "    </tr>\n",
       "    <tr>\n",
       "      <th>36238</th>\n",
       "      <td>/essay/tpo-20-do-you-agree-or-disagree-with-th...</td>\n",
       "    </tr>\n",
       "    <tr>\n",
       "      <th>36239</th>\n",
       "      <td>/essay/tpo-19-do-you-agree-or-disagree-with-th...</td>\n",
       "    </tr>\n",
       "  </tbody>\n",
       "</table>\n",
       "<p>36240 rows × 1 columns</p>\n",
       "</div>"
      ],
      "text/plain": [
       "                                                       0\n",
       "0      /essay/increasing-the-price-of-petrol-is-the-b...\n",
       "1      /essay/fatherhood-ought-to-be-emphasized-as-mu...\n",
       "2      /essay/as-computers-are-being-used-more-and-mo...\n",
       "3      /essay/some-people-believe-that-it-is-good-to-...\n",
       "4      /essay/some-people-believe-that-teaching-child...\n",
       "...                                                  ...\n",
       "36235  /essay/tpo-32-do-you-agree-or-disagree-with-th...\n",
       "36236  /essay/tpo-29-do-you-agree-or-disagree-with-th...\n",
       "36237  /essay/tpo-22-do-you-agree-or-disagree-with-th...\n",
       "36238  /essay/tpo-20-do-you-agree-or-disagree-with-th...\n",
       "36239  /essay/tpo-19-do-you-agree-or-disagree-with-th...\n",
       "\n",
       "[36240 rows x 1 columns]"
      ]
     },
     "execution_count": 22,
     "metadata": {},
     "output_type": "execute_result"
    }
   ],
   "source": [
    "essay_links = links[links['0'].str.startswith('/essay', na=False) == True].reset_index(drop=True)\n",
    "essay_links"
   ]
  },
  {
   "cell_type": "code",
   "execution_count": 32,
   "id": "87ab48f6",
   "metadata": {},
   "outputs": [],
   "source": [
    "list_of_links = np.asarray(essay_links).ravel()"
   ]
  },
  {
   "cell_type": "code",
   "execution_count": 64,
   "id": "ec7267b9",
   "metadata": {},
   "outputs": [],
   "source": [
    "def get_data(page_url):\n",
    "    new_dict = {}\n",
    "\n",
    "    URL2 = 'https://ielts69.com' + str(page_url)\n",
    "    essay_page = requests.get(URL2)\n",
    "    soup2 = BeautifulSoup(essay_page.content, \"html.parser\")\n",
    "\n",
    "    essay_text = soup2.find(\"div\", id=\"editor\")\n",
    "    #text = results2.find_all()\n",
    "    \n",
    "    if essay_text != None:\n",
    "        for tag in essay_text.select('div.popup'):\n",
    "            tag.decompose()\n",
    "    \n",
    "        delimiter = '#'      \n",
    "\n",
    "        for line_break in essay_text.findAll('br'):      \n",
    "            line_break.replaceWith(delimiter)\n",
    "\n",
    "    paragraph_number = soup2.find(\"i\", id=\"totalParagraphs\")\n",
    "    word_count = soup2.find(\"i\", id=\"totalWords\")\n",
    "    essay_topic = soup2.find(\"h1\")\n",
    "    essay_score = soup2.find(\"div\", id=\"bandTotal\")\n",
    "\n",
    "    ccTotal = soup2.find(\"i\", id=\"ccTotal\")\n",
    "    lrTotal = soup2.find(\"i\", id=\"lrTotal\")\n",
    "    graTotal = soup2.find(\"i\", id=\"graTotal\")\n",
    "    taTotal = soup2.find(\"i\", id=\"taTotal\")\n",
    "\n",
    "    new_dict = {'EssayTopic': essay_topic.text, 'EssayBody': \"No text\" if essay_text == None else essay_text.text, \n",
    "            'ParagraphCount': int(paragraph_number.text), 'WordCount': int(word_count.text), \n",
    "            'EssayScore': float(essay_score.text), 'CC_Score': float(ccTotal.text), \n",
    "            'LR_Score': float(lrTotal.text), 'GRA_Score': float(graTotal.text), 'TA_Score': float(taTotal.text)}\n",
    "    \n",
    "    return new_dict"
   ]
  },
  {
   "cell_type": "code",
   "execution_count": 65,
   "id": "a8b3ed95",
   "metadata": {},
   "outputs": [],
   "source": [
    "Essay_Dataset = pd.DataFrame(columns=['EssayTopic', 'EssayBody', 'ParagraphCount', \n",
    "                                     'WordCount', 'EssayScore', 'CC_Score', 'LR_Score', \n",
    "                                     'GRA_Score', 'TA_Score'])"
   ]
  },
  {
   "cell_type": "code",
   "execution_count": 66,
   "id": "cfebc5ed",
   "metadata": {
    "scrolled": true
   },
   "outputs": [
    {
     "name": "stdout",
     "output_type": "stream",
     "text": [
      "Done!\n"
     ]
    }
   ],
   "source": [
    "complete = 0\n",
    "mod = int((len(list_of_links)-26600)/100)\n",
    "for index_number, url in enumerate(list_of_links[15000:15010]):\n",
    "    data = get_data(url)\n",
    "    new_row = pd.DataFrame(data, index=[index_number])\n",
    "    Essay_Dataset = pd.concat([Essay_Dataset, new_row])\n",
    "    \n",
    "    if ((index_number % mod) == 0) and (index_number != 0):\n",
    "        complete += 1\n",
    "        print(\"%{} is complete\".format(complete))\n",
    "        Essay_Dataset.to_csv(\"essay_dataset_new4-{}.csv\".format(complete))\n",
    "        \n",
    "print(\"Done!\")"
   ]
  },
  {
   "cell_type": "code",
   "execution_count": 7,
   "id": "44191ec4",
   "metadata": {},
   "outputs": [],
   "source": [
    "Essay_Dataset.to_csv(\"essay_dataset_new.csv\")"
   ]
  },
  {
   "cell_type": "code",
   "execution_count": 67,
   "id": "eb9aa9dd",
   "metadata": {},
   "outputs": [
    {
     "data": {
      "text/html": [
       "<div>\n",
       "<style scoped>\n",
       "    .dataframe tbody tr th:only-of-type {\n",
       "        vertical-align: middle;\n",
       "    }\n",
       "\n",
       "    .dataframe tbody tr th {\n",
       "        vertical-align: top;\n",
       "    }\n",
       "\n",
       "    .dataframe thead th {\n",
       "        text-align: right;\n",
       "    }\n",
       "</style>\n",
       "<table border=\"1\" class=\"dataframe\">\n",
       "  <thead>\n",
       "    <tr style=\"text-align: right;\">\n",
       "      <th></th>\n",
       "      <th>EssayTopic</th>\n",
       "      <th>EssayBody</th>\n",
       "      <th>ParagraphCount</th>\n",
       "      <th>WordCount</th>\n",
       "      <th>EssayScore</th>\n",
       "      <th>CC_Score</th>\n",
       "      <th>LR_Score</th>\n",
       "      <th>GRA_Score</th>\n",
       "      <th>TA_Score</th>\n",
       "    </tr>\n",
       "  </thead>\n",
       "  <tbody>\n",
       "    <tr>\n",
       "      <th>0</th>\n",
       "      <td>TPO 54 - Question 4Explain how the example dis...</td>\n",
       "      <td>Some folks believe that punishing children phy...</td>\n",
       "      <td>5</td>\n",
       "      <td>295</td>\n",
       "      <td>7.0</td>\n",
       "      <td>7.0</td>\n",
       "      <td>7.0</td>\n",
       "      <td>7.0</td>\n",
       "      <td>7.0</td>\n",
       "    </tr>\n",
       "    <tr>\n",
       "      <th>1</th>\n",
       "      <td>TPO 12 - Q 2Some people believe it's essential...</td>\n",
       "      <td>The majority of employees do not exercise eith...</td>\n",
       "      <td>4</td>\n",
       "      <td>315</td>\n",
       "      <td>7.0</td>\n",
       "      <td>7.0</td>\n",
       "      <td>7.0</td>\n",
       "      <td>7.0</td>\n",
       "      <td>7.0</td>\n",
       "    </tr>\n",
       "    <tr>\n",
       "      <th>2</th>\n",
       "      <td>TPO 31 - Question 1Parents need to make sure t...</td>\n",
       "      <td>The contemporary world, unlike the past, is oc...</td>\n",
       "      <td>4</td>\n",
       "      <td>269</td>\n",
       "      <td>7.0</td>\n",
       "      <td>7.0</td>\n",
       "      <td>7.0</td>\n",
       "      <td>7.0</td>\n",
       "      <td>7.0</td>\n",
       "    </tr>\n",
       "    <tr>\n",
       "      <th>3</th>\n",
       "      <td>1055 in some places people spend a lot of mone...</td>\n",
       "      <td>While one half of the population thinks people...</td>\n",
       "      <td>5</td>\n",
       "      <td>254</td>\n",
       "      <td>7.0</td>\n",
       "      <td>7.0</td>\n",
       "      <td>7.0</td>\n",
       "      <td>7.0</td>\n",
       "      <td>7.0</td>\n",
       "    </tr>\n",
       "    <tr>\n",
       "      <th>4</th>\n",
       "      <td>The table below shows the results of a survey ...</td>\n",
       "      <td>The public is developing a strong opinion that...</td>\n",
       "      <td>3</td>\n",
       "      <td>413</td>\n",
       "      <td>7.0</td>\n",
       "      <td>7.0</td>\n",
       "      <td>7.0</td>\n",
       "      <td>7.0</td>\n",
       "      <td>7.0</td>\n",
       "    </tr>\n",
       "    <tr>\n",
       "      <th>5</th>\n",
       "      <td>Some people say that advertising encourages us...</td>\n",
       "      <td>Some people are commenting that the level of e...</td>\n",
       "      <td>4</td>\n",
       "      <td>371</td>\n",
       "      <td>7.0</td>\n",
       "      <td>7.0</td>\n",
       "      <td>7.0</td>\n",
       "      <td>7.0</td>\n",
       "      <td>7.0</td>\n",
       "    </tr>\n",
       "    <tr>\n",
       "      <th>6</th>\n",
       "      <td>Some people think that newspapers are the best...</td>\n",
       "      <td>Every country has different methods for dealin...</td>\n",
       "      <td>4</td>\n",
       "      <td>300</td>\n",
       "      <td>7.0</td>\n",
       "      <td>7.0</td>\n",
       "      <td>7.0</td>\n",
       "      <td>7.0</td>\n",
       "      <td>7.0</td>\n",
       "    </tr>\n",
       "    <tr>\n",
       "      <th>7</th>\n",
       "      <td>Some companies have uniforms for their staffs ...</td>\n",
       "      <td>In the recent years, many people, especially i...</td>\n",
       "      <td>4</td>\n",
       "      <td>351</td>\n",
       "      <td>7.0</td>\n",
       "      <td>7.0</td>\n",
       "      <td>7.0</td>\n",
       "      <td>7.0</td>\n",
       "      <td>7.0</td>\n",
       "    </tr>\n",
       "    <tr>\n",
       "      <th>8</th>\n",
       "      <td>Some people think governments should spend mon...</td>\n",
       "      <td>It is a matter of concern that our environment...</td>\n",
       "      <td>4</td>\n",
       "      <td>443</td>\n",
       "      <td>7.0</td>\n",
       "      <td>7.0</td>\n",
       "      <td>7.0</td>\n",
       "      <td>7.0</td>\n",
       "      <td>7.0</td>\n",
       "    </tr>\n",
       "    <tr>\n",
       "      <th>9</th>\n",
       "      <td>Question: Some young children spend a great am...</td>\n",
       "      <td>In this technical world, the profound influenc...</td>\n",
       "      <td>4</td>\n",
       "      <td>270</td>\n",
       "      <td>7.0</td>\n",
       "      <td>7.0</td>\n",
       "      <td>7.0</td>\n",
       "      <td>7.0</td>\n",
       "      <td>7.0</td>\n",
       "    </tr>\n",
       "  </tbody>\n",
       "</table>\n",
       "</div>"
      ],
      "text/plain": [
       "                                          EssayTopic  \\\n",
       "0  TPO 54 - Question 4Explain how the example dis...   \n",
       "1  TPO 12 - Q 2Some people believe it's essential...   \n",
       "2  TPO 31 - Question 1Parents need to make sure t...   \n",
       "3  1055 in some places people spend a lot of mone...   \n",
       "4  The table below shows the results of a survey ...   \n",
       "5  Some people say that advertising encourages us...   \n",
       "6  Some people think that newspapers are the best...   \n",
       "7  Some companies have uniforms for their staffs ...   \n",
       "8  Some people think governments should spend mon...   \n",
       "9  Question: Some young children spend a great am...   \n",
       "\n",
       "                                           EssayBody ParagraphCount WordCount  \\\n",
       "0  Some folks believe that punishing children phy...              5       295   \n",
       "1  The majority of employees do not exercise eith...              4       315   \n",
       "2  The contemporary world, unlike the past, is oc...              4       269   \n",
       "3  While one half of the population thinks people...              5       254   \n",
       "4  The public is developing a strong opinion that...              3       413   \n",
       "5  Some people are commenting that the level of e...              4       371   \n",
       "6  Every country has different methods for dealin...              4       300   \n",
       "7  In the recent years, many people, especially i...              4       351   \n",
       "8  It is a matter of concern that our environment...              4       443   \n",
       "9  In this technical world, the profound influenc...              4       270   \n",
       "\n",
       "  EssayScore CC_Score LR_Score GRA_Score TA_Score  \n",
       "0        7.0      7.0      7.0       7.0      7.0  \n",
       "1        7.0      7.0      7.0       7.0      7.0  \n",
       "2        7.0      7.0      7.0       7.0      7.0  \n",
       "3        7.0      7.0      7.0       7.0      7.0  \n",
       "4        7.0      7.0      7.0       7.0      7.0  \n",
       "5        7.0      7.0      7.0       7.0      7.0  \n",
       "6        7.0      7.0      7.0       7.0      7.0  \n",
       "7        7.0      7.0      7.0       7.0      7.0  \n",
       "8        7.0      7.0      7.0       7.0      7.0  \n",
       "9        7.0      7.0      7.0       7.0      7.0  "
      ]
     },
     "execution_count": 67,
     "metadata": {},
     "output_type": "execute_result"
    }
   ],
   "source": [
    "Essay_Dataset"
   ]
  },
  {
   "cell_type": "code",
   "execution_count": 68,
   "id": "8c4d7b6b",
   "metadata": {},
   "outputs": [],
   "source": [
    "a=list_of_links[15000:15010]"
   ]
  },
  {
   "cell_type": "code",
   "execution_count": 69,
   "id": "7dadff2f",
   "metadata": {},
   "outputs": [
    {
     "data": {
      "text/plain": [
       "array(['/essay/tpo-54-question-4explain-how-the-example-discussed-by-the-professor-illustrates-a-systems-thinking-approach-to-1',\n",
       "       '/essay/tpo-12-q-2some-people-believe-its-essential-for-a-persons-education-to-learn-to-play-a-musical-instrument-2',\n",
       "       '/essay/tpo-31-question-1parents-need-to-make-sure-their-children-lead-healthy-lives-1',\n",
       "       '/essay/1055-in-some-places-people-spend-a-lot-of-money-on-parties-that-celebrate-special-family-events-1',\n",
       "       '/essay/the-table-below-shows-the-results-of-a-survey-to-find-out-what-members-of-a-city-sports-club-think-about-the-clubs-1',\n",
       "       '/essay/some-people-say-that-advertising-encourages-us-to-buy-things-that-we-really-do-not-need-25',\n",
       "       '/essay/some-people-think-that-newspapers-are-the-best-source-of-news-1',\n",
       "       '/essay/some-companies-have-uniforms-for-their-staffs-which-must-be-worn-all-the-times-1',\n",
       "       '/essay/some-people-think-governments-should-spend-money-on-faster-means-of-transport-1',\n",
       "       '/essay/question-some-young-children-spend-a-great-amount-of-their-time-practicing-sports-1'],\n",
       "      dtype=object)"
      ]
     },
     "execution_count": 69,
     "metadata": {},
     "output_type": "execute_result"
    }
   ],
   "source": [
    "a"
   ]
  },
  {
   "cell_type": "code",
   "execution_count": null,
   "id": "4843bc0f",
   "metadata": {},
   "outputs": [],
   "source": []
  }
 ],
 "metadata": {
  "kernelspec": {
   "display_name": "Python 3 (ipykernel)",
   "language": "python",
   "name": "python3"
  },
  "language_info": {
   "codemirror_mode": {
    "name": "ipython",
    "version": 3
   },
   "file_extension": ".py",
   "mimetype": "text/x-python",
   "name": "python",
   "nbconvert_exporter": "python",
   "pygments_lexer": "ipython3",
   "version": "3.8.5"
  }
 },
 "nbformat": 4,
 "nbformat_minor": 5
}
